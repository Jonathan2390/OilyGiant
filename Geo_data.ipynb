{
 "cells": [
  {
   "cell_type": "markdown",
   "metadata": {},
   "source": [
    "# OilyGiant #"
   ]
  },
  {
   "cell_type": "markdown",
   "metadata": {},
   "source": [
    "## Descripción del proyecto"
   ]
  },
  {
   "cell_type": "markdown",
   "metadata": {},
   "source": [
    "Trabajas en la compañía de extracción de petróleo OilyGiant. Tu tarea es encontrar los mejores lugares donde abrir 200 pozos nuevos de petróleo.\n",
    "\n",
    "Para completar esta tarea, tendrás que realizar los siguientes pasos:\n",
    "\n",
    "Leer los archivos con los parámetros recogidos de pozos petrolíferos en la región seleccionada: calidad de crudo y volumen de reservas.\n",
    "Crear un modelo para predecir el volumen de reservas en pozos nuevos.\n",
    "Elegir los pozos petrolíferos que tienen los valores estimados más altos.\n",
    "Elegir la región con el beneficio total más alto para los pozos petrolíferos seleccionados.\n",
    "Tienes datos sobre muestras de crudo de tres regiones. Ya se conocen los parámetros de cada pozo petrolero de la región. Crea un modelo que ayude a elegir la región con el mayor margen de beneficio. Analiza los beneficios y riesgos potenciales utilizando la técnica bootstrapping.\n",
    "\n",
    "Condiciones:\n",
    "Solo se debe usar la regresión lineal para el entrenamiento del modelo.\n",
    "Al explorar la región, se lleva a cabo un estudio de 500 puntos con la selección de los mejores 200 puntos para el cálculo del beneficio.\n",
    "El presupuesto para el desarrollo de 200 pozos petroleros es de 100 millones de dólares.\n",
    "Un barril de materias primas genera 4.5 USD de ingresos. El ingreso de una unidad de producto es de 4500 dólares (el volumen de reservas está expresado en miles de barriles).\n",
    "Después de la evaluación de riesgo, mantén solo las regiones con riesgo de pérdidas inferior al 2.5%. De las que se ajustan a los criterios, se debe seleccionar la región con el beneficio promedio más alto.\n",
    "Los datos son sintéticos: los detalles del contrato y las características del pozo no se publican.\n",
    "\n",
    "Descripción de datos\n",
    "Los datos de exploración geológica de las tres regiones se almacenan en archivos:\n",
    "\n",
    "geo_data_0.csv. Descarga el conjunto de datos\n",
    "geo_data_1.csv. Descarga el conjunto de datos\n",
    "geo_data_2.csv. Descarga el conjunto de datos\n",
    "id — identificador único de pozo de petróleo\n",
    "f0, f1, f2 — tres características de los puntos (su significado específico no es importante, pero las características en sí son significativas)\n",
    "product — volumen de reservas en el pozo de petróleo (miles de barriles)."
   ]
  },
  {
   "cell_type": "markdown",
   "metadata": {},
   "source": [
    "## Preparación de los datos"
   ]
  },
  {
   "cell_type": "markdown",
   "metadata": {},
   "source": [
    "### Importación de las librerías"
   ]
  },
  {
   "cell_type": "code",
   "execution_count": 49,
   "metadata": {
    "trusted": false
   },
   "outputs": [],
   "source": [
    "import pandas as pd\n",
    "import numpy as np\n",
    "from sklearn.tree import DecisionTreeClassifier\n",
    "from sklearn import set_config\n",
    "from sklearn.model_selection import train_test_split\n",
    "from sklearn.model_selection import train_test_split\n",
    "from sklearn.preprocessing import StandardScaler\n",
    "from sklearn.ensemble import RandomForestClassifier\n",
    "from sklearn.metrics import accuracy_score, classification_report\n",
    "from sklearn.linear_model import LogisticRegression\n",
    "from sklearn.model_selection import train_test_split\n",
    "from sklearn.ensemble import RandomForestRegressor\n",
    "from sklearn.tree import DecisionTreeRegressor\n",
    "from sklearn.model_selection import train_test_split\n",
    "from sklearn.metrics import mean_squared_error\n",
    "from sklearn.metrics import recall_score\n",
    "from sklearn.metrics import confusion_matrix\n",
    "from sklearn.preprocessing import OrdinalEncoder\n",
    "from sklearn.metrics import precision_score\n",
    "from sklearn.metrics import f1_score\n",
    "from sklearn.linear_model import LogisticRegression\n",
    "from sklearn.utils import shuffle\n",
    "from sklearn.metrics import precision_recall_curve\n",
    "import matplotlib.pyplot as plt\n",
    "from sklearn.metrics import roc_curve\n",
    "from sklearn.metrics import roc_auc_score\n",
    "from sklearn.preprocessing import StandardScaler\n",
    "from sklearn.linear_model import LinearRegression\n",
    "from sklearn.metrics import r2_score\n",
    "from sklearn.metrics import mean_absolute_error\n",
    "from sklearn.preprocessing import LabelEncoder\n",
    "from sklearn.preprocessing import MinMaxScaler\n",
    "\n"
   ]
  },
  {
   "cell_type": "markdown",
   "metadata": {},
   "source": [
    "### Importando los datos"
   ]
  },
  {
   "cell_type": "code",
   "execution_count": 50,
   "metadata": {
    "trusted": false
   },
   "outputs": [],
   "source": [
    "geo_data_cero = pd.read_csv ('/datasets/geo_data_0.csv')\n",
    "geo_data_one = pd.read_csv ('/datasets/geo_data_1.csv')\n",
    "geo_data_two = pd.read_csv ('/datasets/geo_data_2.csv')"
   ]
  },
  {
   "cell_type": "code",
   "execution_count": 51,
   "metadata": {
    "trusted": false
   },
   "outputs": [
    {
     "name": "stdout",
     "output_type": "stream",
     "text": [
      "Info del dataframe geo_data_cero\n",
      "<class 'pandas.core.frame.DataFrame'>\n",
      "RangeIndex: 100000 entries, 0 to 99999\n",
      "Data columns (total 5 columns):\n",
      " #   Column   Non-Null Count   Dtype  \n",
      "---  ------   --------------   -----  \n",
      " 0   id       100000 non-null  object \n",
      " 1   f0       100000 non-null  float64\n",
      " 2   f1       100000 non-null  float64\n",
      " 3   f2       100000 non-null  float64\n",
      " 4   product  100000 non-null  float64\n",
      "dtypes: float64(4), object(1)\n",
      "memory usage: 3.8+ MB\n",
      "\n",
      "Info del dataframe geo_data_one\n",
      "<class 'pandas.core.frame.DataFrame'>\n",
      "RangeIndex: 100000 entries, 0 to 99999\n",
      "Data columns (total 5 columns):\n",
      " #   Column   Non-Null Count   Dtype  \n",
      "---  ------   --------------   -----  \n",
      " 0   id       100000 non-null  object \n",
      " 1   f0       100000 non-null  float64\n",
      " 2   f1       100000 non-null  float64\n",
      " 3   f2       100000 non-null  float64\n",
      " 4   product  100000 non-null  float64\n",
      "dtypes: float64(4), object(1)\n",
      "memory usage: 3.8+ MB\n",
      "\n",
      "Info del dataframe geo_data_two\n",
      "<class 'pandas.core.frame.DataFrame'>\n",
      "RangeIndex: 100000 entries, 0 to 99999\n",
      "Data columns (total 5 columns):\n",
      " #   Column   Non-Null Count   Dtype  \n",
      "---  ------   --------------   -----  \n",
      " 0   id       100000 non-null  object \n",
      " 1   f0       100000 non-null  float64\n",
      " 2   f1       100000 non-null  float64\n",
      " 3   f2       100000 non-null  float64\n",
      " 4   product  100000 non-null  float64\n",
      "dtypes: float64(4), object(1)\n",
      "memory usage: 3.8+ MB\n"
     ]
    }
   ],
   "source": [
    "print(\"Info del dataframe geo_data_cero\")\n",
    "geo_data_cero.info()\n",
    "print()\n",
    "print(\"Info del dataframe geo_data_one\")\n",
    "geo_data_one.info()\n",
    "print()\n",
    "print(\"Info del dataframe geo_data_two\")\n",
    "geo_data_two.info()"
   ]
  },
  {
   "cell_type": "markdown",
   "metadata": {},
   "source": [
    "### Manejando valores nulos"
   ]
  },
  {
   "cell_type": "code",
   "execution_count": 52,
   "metadata": {
    "trusted": false
   },
   "outputs": [
    {
     "name": "stdout",
     "output_type": "stream",
     "text": [
      "id         0\n",
      "f0         0\n",
      "f1         0\n",
      "f2         0\n",
      "product    0\n",
      "dtype: int64\n",
      "\n",
      "id         0\n",
      "f0         0\n",
      "f1         0\n",
      "f2         0\n",
      "product    0\n",
      "dtype: int64\n",
      "id         0\n",
      "f0         0\n",
      "f1         0\n",
      "f2         0\n",
      "product    0\n",
      "dtype: int64\n"
     ]
    }
   ],
   "source": [
    "null_counts = geo_data_cero.isnull().sum()\n",
    "print(null_counts)\n",
    "print()\n",
    "null_counts_1 = geo_data_one.isnull().sum()\n",
    "print(null_counts_1)\n",
    "null_counts_2 = geo_data_two.isnull().sum()\n",
    "print(null_counts_2)"
   ]
  },
  {
   "cell_type": "markdown",
   "metadata": {},
   "source": [
    "Una vez observados los datos de los tres dataframe no se identificaron valores nulos que requieran mayor atención para continuar con el análisis."
   ]
  },
  {
   "cell_type": "markdown",
   "metadata": {},
   "source": [
    "### Mejoran los datos de la columna ID"
   ]
  },
  {
   "cell_type": "markdown",
   "metadata": {},
   "source": [
    "#### Dataframe geo_data_cero"
   ]
  },
  {
   "cell_type": "code",
   "execution_count": 53,
   "metadata": {
    "trusted": false
   },
   "outputs": [
    {
     "name": "stdout",
     "output_type": "stream",
     "text": [
      "       id_numeric        f0        f1        f2     product\n",
      "0               0  0.705745 -0.497823  1.221170  105.280062\n",
      "1               1  1.334711 -0.340164  4.365080   73.037750\n",
      "2               2  1.022732  0.151990  1.419926   85.265647\n",
      "3               3 -0.032172  0.139033  2.978566  168.620776\n",
      "4               4  1.988431  0.155413  4.751769  154.036647\n",
      "...           ...       ...       ...       ...         ...\n",
      "99995       99985  0.971957  0.370953  6.075346  110.744026\n",
      "99996       99986  1.392429 -0.382606  1.273912  122.346843\n",
      "99997       99987  1.029585  0.018787 -1.348308   64.375443\n",
      "99998       99988  0.998163 -0.528582  1.583869   74.040764\n",
      "99999       99989  1.764754 -0.266417  5.722849  149.633246\n",
      "\n",
      "[100000 rows x 5 columns]\n"
     ]
    }
   ],
   "source": [
    "#geo_data_cero\n",
    "geo_data_cero = pd.DataFrame(geo_data_cero)\n",
    "\n",
    "# Convertir la columna 'id' a números\n",
    "geo_data_cero['id_numeric'] = pd.factorize(geo_data_cero['id'])[0]\n",
    "\n",
    "# Normalizar la columna numérica\n",
    "scaler = MinMaxScaler()\n",
    "geo_data_cero['id_normalized'] = scaler.fit_transform(geo_data_cero[['id_numeric']])\n",
    "\n",
    "# Eliminar la columna 'id' y 'id_normalized'\n",
    "geo_data_cero = geo_data_cero.drop('id', axis=1)\n",
    "geo_data_cero = geo_data_cero.drop('id_normalized', axis=1)\n",
    "\n",
    "# Reorganizar las columnas en el orden deseado\n",
    "geo_data_cero = geo_data_cero[['id_numeric','f0', 'f1', 'f2', 'product']]\n",
    "\n",
    "# Mostrar el DataFrame resultante\n",
    "print(geo_data_cero)"
   ]
  },
  {
   "cell_type": "markdown",
   "metadata": {},
   "source": [
    "#### Dataframe geo_data_one"
   ]
  },
  {
   "cell_type": "code",
   "execution_count": 54,
   "metadata": {
    "trusted": false
   },
   "outputs": [
    {
     "name": "stdout",
     "output_type": "stream",
     "text": [
      "       id_numeric         f0         f1        f2     product\n",
      "0               0 -15.001348  -8.276000 -0.005876    3.179103\n",
      "1               1  14.272088  -3.475083  0.999183   26.953261\n",
      "2               2   6.263187  -5.948386  5.001160  134.766305\n",
      "3               3 -13.081196 -11.506057  4.999415  137.945408\n",
      "4               4  12.702195  -8.147433  5.004363  134.766305\n",
      "...           ...        ...        ...       ...         ...\n",
      "99995       99991   9.535637  -6.878139  1.998296   53.906522\n",
      "99996       99992 -10.160631 -12.558096  5.005581  137.945408\n",
      "99997       99993  -7.378891  -3.084104  4.998651  137.945408\n",
      "99998       99994   0.665714  -6.152593  1.000146   30.132364\n",
      "99999       99995  -3.426139  -7.794274 -0.003299    3.179103\n",
      "\n",
      "[100000 rows x 5 columns]\n"
     ]
    }
   ],
   "source": [
    "#geo_data_one\n",
    "geo_data_one = pd.DataFrame(geo_data_one)\n",
    "\n",
    "# Convertir la columna 'id' a números\n",
    "geo_data_one['id_numeric'] = pd.factorize(geo_data_one['id'])[0]\n",
    "\n",
    "# Normalizar la columna numérica\n",
    "scaler = MinMaxScaler()\n",
    "geo_data_one['id_normalized'] = scaler.fit_transform(geo_data_one[['id_numeric']])\n",
    "\n",
    "# Eliminar la columna 'id' y 'id_normalized'\n",
    "geo_data_one = geo_data_one.drop('id', axis=1)\n",
    "geo_data_one = geo_data_one.drop('id_normalized', axis=1)\n",
    "\n",
    "# Reorganizar las columnas en el orden deseado\n",
    "geo_data_one = geo_data_one[['id_numeric','f0', 'f1', 'f2', 'product']]\n",
    "\n",
    "# Mostrar el DataFrame resultante\n",
    "print(geo_data_one)"
   ]
  },
  {
   "cell_type": "code",
   "execution_count": 55,
   "metadata": {
    "trusted": false
   },
   "outputs": [
    {
     "name": "stdout",
     "output_type": "stream",
     "text": [
      "       id_numeric        f0        f1        f2     product\n",
      "0               0 -1.146987  0.963328 -0.828965   27.758673\n",
      "1               1  0.262778  0.269839 -2.530187   56.069697\n",
      "2               2  0.194587  0.289035 -5.586433   62.871910\n",
      "3               3  2.236060 -0.553760  0.930038  114.572842\n",
      "4               4 -0.515993  1.716266  5.899011  149.600746\n",
      "...           ...       ...       ...       ...         ...\n",
      "99995       99991 -1.777037  1.125220  6.263374  172.327046\n",
      "99996       99992 -1.261523 -0.894828  2.524545  138.748846\n",
      "99997       99993 -1.199934 -2.957637  5.219411  157.080080\n",
      "99998       99994 -2.419896  2.417221 -5.548444   51.795253\n",
      "99999       99995 -2.551421 -2.025625  6.090891  102.775767\n",
      "\n",
      "[100000 rows x 5 columns]\n"
     ]
    }
   ],
   "source": [
    "#geo_data_two\n",
    "geo_data_two = pd.DataFrame(geo_data_two)\n",
    "\n",
    "# Convertir la columna 'id' a números\n",
    "geo_data_two['id_numeric'] = pd.factorize(geo_data_two['id'])[0]\n",
    "\n",
    "# Normalizar la columna numérica\n",
    "scaler = MinMaxScaler()\n",
    "geo_data_two['id_normalized'] = scaler.fit_transform(geo_data_two[['id_numeric']])\n",
    "\n",
    "# Eliminar la columna 'id' y 'id_normalized'\n",
    "geo_data_two = geo_data_two.drop('id', axis=1)\n",
    "geo_data_two = geo_data_two.drop('id_normalized', axis=1)\n",
    "\n",
    "# Reorganizar las columnas en el orden deseado\n",
    "geo_data_two = geo_data_two[['id_numeric','f0', 'f1', 'f2', 'product']]\n",
    "\n",
    "# Mostrar el DataFrame resultante\n",
    "print(geo_data_two)"
   ]
  },
  {
   "cell_type": "markdown",
   "metadata": {},
   "source": [
    "### Manejando valores duplicados"
   ]
  },
  {
   "cell_type": "code",
   "execution_count": 56,
   "metadata": {
    "trusted": false
   },
   "outputs": [
    {
     "name": "stdout",
     "output_type": "stream",
     "text": [
      "No existen registros duplicados en el DataFrame.\n"
     ]
    }
   ],
   "source": [
    "duplicated = geo_data_cero.duplicated().sum()\n",
    "if duplicated > 0:\n",
    "    print(f\"Existen {duplicated} registros duplicados en el DataFrame.\")\n",
    "else:\n",
    "    print(\"No existen registros duplicados en el DataFrame.\")"
   ]
  },
  {
   "cell_type": "code",
   "execution_count": 57,
   "metadata": {
    "trusted": false
   },
   "outputs": [
    {
     "name": "stdout",
     "output_type": "stream",
     "text": [
      "No existen registros duplicados en el DataFrame.\n"
     ]
    }
   ],
   "source": [
    "duplicated = geo_data_one.duplicated().sum()\n",
    "if duplicated > 0:\n",
    "    print(f\"Existen {duplicated} registros duplicados en el DataFrame.\")\n",
    "else:\n",
    "    print(\"No existen registros duplicados en el DataFrame.\")"
   ]
  },
  {
   "cell_type": "code",
   "execution_count": 58,
   "metadata": {
    "trusted": false
   },
   "outputs": [
    {
     "name": "stdout",
     "output_type": "stream",
     "text": [
      "No existen registros duplicados en el DataFrame.\n"
     ]
    }
   ],
   "source": [
    "duplicated = geo_data_two.duplicated().sum()\n",
    "if duplicated > 0:\n",
    "    print(f\"Existen {duplicated} registros duplicados en el DataFrame.\")\n",
    "else:\n",
    "    print(\"No existen registros duplicados en el DataFrame.\")"
   ]
  },
  {
   "cell_type": "markdown",
   "metadata": {},
   "source": [
    "No se detectaron registros duplicados que requieran tratamiento adicional para continuar con el análisis."
   ]
  },
  {
   "cell_type": "markdown",
   "metadata": {},
   "source": [
    "## Generación de modelos"
   ]
  },
  {
   "cell_type": "markdown",
   "metadata": {},
   "source": [
    "* Crear un modelo para predecir el volumen de reservas en pozos nuevos.\n",
    "* Elegir los pozos petrolíferos que tienen los valores estimados más altos.\n",
    "* Elegir la región con el beneficio total más alto para los pozos petrolíferos seleccionados.\n",
    "\n",
    "Condiciones\n",
    "* Solo se debe usar la regresión lineal para el entrenamiento del modelo.\n",
    "* Al explorar la región, se lleva a cabo un estudio de 500 puntos con la selección de los mejores 200 puntos para el cálculo del beneficio.\n",
    "* El presupuesto para el desarrollo de 200 pozos petroleros es de 100 millones de dólares.\n",
    "* Un barril de materias primas genera 4.5 USD de ingresos. El ingreso de una unidad de producto es de 4500 dólares (el volumen de reservas está expresado en miles de barriles).\n",
    "* Después de la evaluación de riesgo, mantén solo las regiones con riesgo de pérdidas inferior al 2.5%. De las que se ajustan a los criterios, se debe seleccionar la región con el beneficio promedio más alto.\n",
    "* Los datos son sintéticos: los detalles del contrato y las características del pozo no se publican."
   ]
  },
  {
   "cell_type": "markdown",
   "metadata": {},
   "source": [
    "### Entrenando el modelo geo_data_cero"
   ]
  },
  {
   "cell_type": "markdown",
   "metadata": {},
   "source": [
    "#### Equilibrio de clases Dataframe geo_data_cero"
   ]
  },
  {
   "cell_type": "code",
   "execution_count": 59,
   "metadata": {
    "trusted": false
   },
   "outputs": [
    {
     "name": "stdout",
     "output_type": "stream",
     "text": [
      "(75000, 4)\n",
      "(25000, 4)\n"
     ]
    }
   ],
   "source": [
    "train, valid = train_test_split(geo_data_cero, test_size=0.25, random_state=12345)\n",
    "\n",
    "features_train = train.drop('product', axis=1)\n",
    "target_train = train['product']\n",
    "features_valid = valid.drop('product', axis=1)\n",
    "target_valid = valid['product']\n",
    "\n",
    "print(features_train.shape)\n",
    "print(features_valid.shape)"
   ]
  },
  {
   "cell_type": "markdown",
   "metadata": {},
   "source": [
    "El conjunto de datos de entrenamiento tiene 75,000 registros, por otro lado el conjunto de datos de validación está comprendido por 25,000 registros."
   ]
  },
  {
   "cell_type": "markdown",
   "metadata": {},
   "source": [
    "#### Regresión lineal geo_data_cero"
   ]
  },
  {
   "cell_type": "code",
   "execution_count": 60,
   "metadata": {
    "trusted": false
   },
   "outputs": [
    {
     "name": "stdout",
     "output_type": "stream",
     "text": [
      "\n",
      "Coeficiente de determinación del modelo de regresión lineal en el conjunto de validación: 0.2799405333434476\n"
     ]
    }
   ],
   "source": [
    "#Regresión lineal\n",
    "# División: 75% entrenamiento, 25% validación\n",
    "df_train, df_valid = train_test_split(geo_data_cero, test_size=0.25, random_state=12345)\n",
    "\n",
    "\n",
    "# Declara variables para las características y para la característica objetivo\n",
    "features_train = df_train.drop(['product'], axis=1)\n",
    "target_train = df_train['product']\n",
    "\n",
    "features_valid = df_valid.drop(['product'], axis=1)\n",
    "target_valid = df_valid['product']\n",
    "\n",
    "#Regresión lineal\n",
    "\n",
    "model = LinearRegression()\n",
    "# Entrena el modelo\n",
    "model.fit(features_train, target_train)\n",
    "\n",
    "# Calcula la precisión del modelo en los conjuntos de entrenamiento, validación y prueba\n",
    "#score_train = model.score(features_train, target_train)\n",
    "score_valid = model.score(features_valid, target_valid)\n",
    "\n",
    "# Imprime la precisión del modelo\n",
    "print()\n",
    "print(\"Coeficiente de determinación del modelo de regresión lineal en el conjunto de validación:\", score_valid)"
   ]
  },
  {
   "cell_type": "markdown",
   "metadata": {},
   "source": [
    "#### Regresión lineal geo_data_cero"
   ]
  },
  {
   "cell_type": "code",
   "execution_count": 61,
   "metadata": {
    "trusted": false
   },
   "outputs": [
    {
     "name": "stdout",
     "output_type": "stream",
     "text": [
      "       Predicciones  Respuestas correctas\n",
      "71751     95.878521             10.038645\n",
      "80493     77.549772            114.551489\n",
      "2655      77.927910            132.603635\n",
      "53233     90.172394            169.072125\n",
      "91141     70.479568            122.325180\n",
      "...             ...                   ...\n",
      "12581    103.065178            170.116726\n",
      "18456     85.426943             93.632175\n",
      "73035     61.492953            127.352259\n",
      "63834    118.169674             99.782700\n",
      "43558    118.174175            177.821022\n",
      "\n",
      "[25000 rows x 2 columns]\n"
     ]
    }
   ],
   "source": [
    "# Realiza predicciones en el conjunto de validación\n",
    "predictions_valid = model.predict(features_valid)\n",
    "\n",
    "# Guarda las predicciones y las respuestas correctas en un DataFrame\n",
    "df_results_cero = pd.DataFrame({\n",
    "    'Predicciones': predictions_valid,\n",
    "    'Respuestas correctas': target_valid\n",
    "})\n",
    "\n",
    "# Imprime el DataFrame de resultados\n",
    "print(df_results_cero)"
   ]
  },
  {
   "cell_type": "markdown",
   "metadata": {},
   "source": [
    "#### Volumen medio de reservas y RMSE del modelo"
   ]
  },
  {
   "cell_type": "code",
   "execution_count": 62,
   "metadata": {
    "trusted": false
   },
   "outputs": [
    {
     "name": "stdout",
     "output_type": "stream",
     "text": [
      "Volumen medio de reservas: 92.07859674082927\n",
      "Error cuadrático medio (RMSE): 37.57949169859728\n"
     ]
    }
   ],
   "source": [
    "# Volumen medio de reservas y RMSE del modelo\n",
    "\n",
    "# Calcula el volumen medio de reservas\n",
    "volumen_medio_reservas = df_results_cero['Respuestas correctas'].mean()\n",
    "print(f\"Volumen medio de reservas: {volumen_medio_reservas}\")\n",
    "\n",
    "# Calcula el error cuadrático medio (RMSE)\n",
    "rmse = ((df_results_cero['Predicciones'] - df_results_cero['Respuestas correctas']) ** 2).mean() ** 0.5\n",
    "print(f\"Error cuadrático medio (RMSE): {rmse}\")"
   ]
  },
  {
   "cell_type": "markdown",
   "metadata": {},
   "source": [
    "#### Análisis de los resultados modelo Dataframe geo_data_cero"
   ]
  },
  {
   "cell_type": "markdown",
   "metadata": {},
   "source": [
    "El volumen medio de reservas es de 92.07859674082927, lo que sugiere que el modelo es capaz de predecir con precisión el volumen de reservas.\n",
    "\n",
    "El error cuadrático medio (RMSE) es de 37.57949169859728, lo que indica que el modelo tiene un error relativamente alto en la predicción del volumen de reservas."
   ]
  },
  {
   "cell_type": "markdown",
   "metadata": {},
   "source": [
    "### Entrenando el modelo geo_data_one"
   ]
  },
  {
   "cell_type": "markdown",
   "metadata": {},
   "source": [
    "#### Equilibrio de clases Dataframe geo_data_one"
   ]
  },
  {
   "cell_type": "code",
   "execution_count": 63,
   "metadata": {
    "trusted": false
   },
   "outputs": [
    {
     "name": "stdout",
     "output_type": "stream",
     "text": [
      "(75000, 4)\n",
      "(25000, 4)\n"
     ]
    }
   ],
   "source": [
    "train, valid = train_test_split(geo_data_one, test_size=0.25, random_state=12345)\n",
    "\n",
    "features_train = train.drop('product', axis=1)\n",
    "target_train = train['product']\n",
    "features_valid = valid.drop('product', axis=1)\n",
    "target_valid = valid['product']\n",
    "\n",
    "print(features_train.shape)\n",
    "print(features_valid.shape)"
   ]
  },
  {
   "cell_type": "markdown",
   "metadata": {},
   "source": [
    "El conjunto de datos de entrenamiento tiene 75,000 registros, por otro lado el conjunto de datos de validación está comprendido por 25,000 registros."
   ]
  },
  {
   "cell_type": "markdown",
   "metadata": {},
   "source": [
    "#### Regresión lineal Dataframe geo_data_one"
   ]
  },
  {
   "cell_type": "code",
   "execution_count": 64,
   "metadata": {
    "trusted": false
   },
   "outputs": [
    {
     "name": "stdout",
     "output_type": "stream",
     "text": [
      "\n",
      "Coeficiente de determinación del modelo de regresión lineal en el conjunto de validación: 0.9996234260155543\n"
     ]
    }
   ],
   "source": [
    "#Regresión lineal\n",
    "# División: 75% entrenamiento, 25% validación\n",
    "df_train, df_valid = train_test_split(geo_data_one, test_size=0.25, random_state=12345)\n",
    "\n",
    "\n",
    "# Declara variables para las características y para la característica objetivo\n",
    "features_train_one = df_train.drop(['product'], axis=1)\n",
    "target_train_one = df_train['product']\n",
    "\n",
    "features_valid_one = df_valid.drop(['product'], axis=1)\n",
    "target_valid_one = df_valid['product']\n",
    "\n",
    "#Regresión lineal\n",
    "\n",
    "model = LinearRegression()\n",
    "# Entrena el modelo\n",
    "model.fit(features_train_one, target_train_one)\n",
    "\n",
    "# Calcula la precisión del modelo en los conjuntos de entrenamiento, validación y prueba\n",
    "#score_train = model.score(features_train, target_train)\n",
    "score_valid_one = model.score(features_valid_one, target_valid_one)\n",
    "\n",
    "# Imprime la precisión del modelo\n",
    "print()\n",
    "print(\"Coeficiente de determinación del modelo de regresión lineal en el conjunto de validación:\", score_valid_one)"
   ]
  },
  {
   "cell_type": "markdown",
   "metadata": {},
   "source": [
    "#### Predicciones Dataframe geo_data_one"
   ]
  },
  {
   "cell_type": "code",
   "execution_count": 65,
   "metadata": {
    "trusted": false
   },
   "outputs": [
    {
     "name": "stdout",
     "output_type": "stream",
     "text": [
      "       Predicciones  Respuestas correctas\n",
      "71751     82.657255             80.859783\n",
      "80493     54.423132             53.906522\n",
      "2655      29.761995             30.132364\n",
      "53233     53.551109             53.906522\n",
      "91141      1.232282              0.000000\n",
      "...             ...                   ...\n",
      "12581    136.879725            137.945408\n",
      "18456    110.702322            110.992147\n",
      "73035    137.872959            137.945408\n",
      "63834     83.758154             84.038886\n",
      "43558     53.960199             53.906522\n",
      "\n",
      "[25000 rows x 2 columns]\n"
     ]
    }
   ],
   "source": [
    "# Realiza predicciones en el conjunto de validación\n",
    "predictions_valid_one = model.predict(features_valid_one)\n",
    "\n",
    "# Guarda las predicciones y las respuestas correctas en un DataFrame\n",
    "df_results_one = pd.DataFrame({\n",
    "    'Predicciones': predictions_valid_one,\n",
    "    'Respuestas correctas': target_valid_one\n",
    "})\n",
    "\n",
    "# Imprime el DataFrame de resultados\n",
    "print(df_results_one)"
   ]
  },
  {
   "cell_type": "markdown",
   "metadata": {},
   "source": [
    "#### Volumen medio de reservas y RMSE del modelo"
   ]
  },
  {
   "cell_type": "code",
   "execution_count": 66,
   "metadata": {
    "trusted": false
   },
   "outputs": [
    {
     "name": "stdout",
     "output_type": "stream",
     "text": [
      "Volumen medio de reservas: 68.72313602435997\n",
      "Error cuadrático medio (RMSE): 0.8930659254991293\n"
     ]
    }
   ],
   "source": [
    "# Volumen medio de reservas y RMSE del modelo\n",
    "\n",
    "# Calcula el volumen medio de reservas\n",
    "volumen_medio_reservas = df_results_one['Respuestas correctas'].mean()\n",
    "print(f\"Volumen medio de reservas: {volumen_medio_reservas}\")\n",
    "\n",
    "# Calcula el error cuadrático medio (RMSE)\n",
    "rmse = ((df_results_one['Predicciones'] - df_results_one['Respuestas correctas']) ** 2).mean() ** 0.5\n",
    "print(f\"Error cuadrático medio (RMSE): {rmse}\")"
   ]
  },
  {
   "cell_type": "markdown",
   "metadata": {},
   "source": [
    "#### Análisis de los resultados modelo Dataframe geo_data_one"
   ]
  },
  {
   "cell_type": "markdown",
   "metadata": {},
   "source": [
    "El volumen medio de reservas es de 68.72313602435997, lo que sugiere que el modelo es capaz de predecir con precisión el volumen de reservas.\n",
    "\n",
    "El error cuadrático medio (RMSE) es de 0.8930659254991293, lo que indica que el modelo tiene un error relativamente bajo en la predicción del volumen de reservas."
   ]
  },
  {
   "cell_type": "markdown",
   "metadata": {},
   "source": [
    "### Entrenando el modelo geo_data_two"
   ]
  },
  {
   "cell_type": "markdown",
   "metadata": {},
   "source": [
    "#### Equilibrio de clases Dataframe geo_data_two"
   ]
  },
  {
   "cell_type": "code",
   "execution_count": 67,
   "metadata": {
    "trusted": false
   },
   "outputs": [
    {
     "name": "stdout",
     "output_type": "stream",
     "text": [
      "(75000, 4)\n",
      "(25000, 4)\n"
     ]
    }
   ],
   "source": [
    "train, valid = train_test_split(geo_data_two, test_size=0.25, random_state=12345)\n",
    "\n",
    "features_train = train.drop('product', axis=1)\n",
    "target_train = train['product']\n",
    "features_valid = valid.drop('product', axis=1)\n",
    "target_valid = valid['product']\n",
    "\n",
    "print(features_train.shape)\n",
    "print(features_valid.shape)"
   ]
  },
  {
   "cell_type": "markdown",
   "metadata": {},
   "source": [
    "El conjunto de datos de entrenamiento tiene 75,000 registros, por otro lado el conjunto de datos de validación está comprendido por 25,000 registros."
   ]
  },
  {
   "cell_type": "markdown",
   "metadata": {},
   "source": [
    "#### Regresión lineal Dataframe geo_data_two"
   ]
  },
  {
   "cell_type": "code",
   "execution_count": 68,
   "metadata": {
    "trusted": false
   },
   "outputs": [
    {
     "name": "stdout",
     "output_type": "stream",
     "text": [
      "\n",
      "Coeficiente de determinación del modelo de regresión lineal en el conjunto de validación: 0.20523465492216275\n"
     ]
    }
   ],
   "source": [
    "#Regresión lineal\n",
    "# División: 75% entrenamiento, 25% validación\n",
    "df_train, df_valid = train_test_split(geo_data_two, test_size=0.25, random_state=12345)\n",
    "\n",
    "\n",
    "# Declara variables para las características y para la característica objetivo\n",
    "features_train_two = df_train.drop(['product'], axis=1)\n",
    "target_train_two = df_train['product']\n",
    "\n",
    "features_valid_two = df_valid.drop(['product'], axis=1)\n",
    "target_valid_two = df_valid['product']\n",
    "\n",
    "#Regresión lineal\n",
    "\n",
    "model = LinearRegression()\n",
    "# Entrena el modelo\n",
    "model.fit(features_train_two, target_train_two)\n",
    "\n",
    "# Calcula la precisión del modelo en los conjuntos de entrenamiento, validación y prueba\n",
    "#score_train = model.score(features_train, target_train)\n",
    "score_valid_two = model.score(features_valid_two, target_valid_two)\n",
    "\n",
    "# Imprime la precisión del modelo\n",
    "print()\n",
    "print(\"Coeficiente de determinación del modelo de regresión lineal en el conjunto de validación:\", score_valid_two)"
   ]
  },
  {
   "cell_type": "markdown",
   "metadata": {},
   "source": [
    "#### Predicción geo_data_two"
   ]
  },
  {
   "cell_type": "code",
   "execution_count": 69,
   "metadata": {
    "trusted": false
   },
   "outputs": [
    {
     "name": "stdout",
     "output_type": "stream",
     "text": [
      "       Predicciones  Respuestas correctas\n",
      "71751     93.622832             61.212375\n",
      "80493     75.137658             41.850118\n",
      "2655      90.016233             57.776581\n",
      "53233    105.165864            100.053761\n",
      "91141    115.346697            109.897122\n",
      "...             ...                   ...\n",
      "12581     78.726176             28.492402\n",
      "18456     95.569863             21.431303\n",
      "73035     99.431846            125.487229\n",
      "63834     77.794795             99.422903\n",
      "43558    129.025211            127.445075\n",
      "\n",
      "[25000 rows x 2 columns]\n"
     ]
    }
   ],
   "source": [
    "# Realiza predicciones en el conjunto de validación\n",
    "predictions_valid_two = model.predict(features_valid_two)\n",
    "\n",
    "# Guarda las predicciones y las respuestas correctas en un DataFrame\n",
    "df_results_two = pd.DataFrame({\n",
    "    'Predicciones': predictions_valid_two,\n",
    "    'Respuestas correctas': target_valid_two\n",
    "})\n",
    "\n",
    "# Imprime el DataFrame de resultados\n",
    "print(df_results_two)"
   ]
  },
  {
   "cell_type": "markdown",
   "metadata": {},
   "source": [
    "#### Volumen medio de reservas y RMSE del modelo"
   ]
  },
  {
   "cell_type": "code",
   "execution_count": 70,
   "metadata": {
    "trusted": false
   },
   "outputs": [
    {
     "name": "stdout",
     "output_type": "stream",
     "text": [
      "Volumen medio de reservas: 94.88423280885438\n",
      "Error cuadrático medio (RMSE): 40.030034331892104\n"
     ]
    }
   ],
   "source": [
    "# Volumen medio de reservas y RMSE del modelo\n",
    "\n",
    "# Calcula el volumen medio de reservas\n",
    "volumen_medio_reservas = df_results_two['Respuestas correctas'].mean()\n",
    "print(f\"Volumen medio de reservas: {volumen_medio_reservas}\")\n",
    "\n",
    "# Calcula el error cuadrático medio (RMSE)\n",
    "rmse = ((df_results_two['Predicciones'] - df_results_two['Respuestas correctas']) ** 2).mean() ** 0.5\n",
    "print(f\"Error cuadrático medio (RMSE): {rmse}\")"
   ]
  },
  {
   "cell_type": "markdown",
   "metadata": {},
   "source": [
    "#### Análisis de los resultados modelo Dataframe geo_data_two"
   ]
  },
  {
   "cell_type": "markdown",
   "metadata": {},
   "source": [
    "El volumen medio de reservas es de 94.88423280885438, lo que sugiere que el modelo es capaz de predecir con precisión el volumen de reservas.\n",
    "\n",
    "El error cuadrático medio (RMSE) es de 40.030034331892104, lo que indica que el modelo tiene un error relativamente alto en la predicción del volumen de reservas."
   ]
  },
  {
   "cell_type": "markdown",
   "metadata": {},
   "source": [
    "## Cálculo de ganancias"
   ]
  },
  {
   "cell_type": "code",
   "execution_count": 71,
   "metadata": {
    "trusted": false
   },
   "outputs": [
    {
     "name": "stdout",
     "output_type": "stream",
     "text": [
      "Comparación de cantidad media de unidades geo_data_cero\n",
      "\n",
      "Cantidad media de reservas en cada región: 92.07859674082927 unidades\n",
      "Valor mínimo requerido para evitar pérdidas: 111.1 unidades\n",
      "La cantidad media de reservas en cada región es insuficiente para evitar pérdidas.\n",
      "Diferencia entre la cantidad media de reservas y el valor mínimo requerido: -19.021403259170725 unidades\n"
     ]
    }
   ],
   "source": [
    "# Calcula la cantidad media de reservas en cada región\n",
    "print(\"Comparación de cantidad media de unidades geo_data_cero\")\n",
    "print()\n",
    "media_reservas_region = df_results_cero['Respuestas correctas'].mean()\n",
    "print(f\"Cantidad media de reservas en cada región: {media_reservas_region} unidades\")\n",
    "\n",
    "# Define el valor mínimo requerido para evitar pérdidas\n",
    "valor_minimo = 111.1\n",
    "print(f\"Valor mínimo requerido para evitar pérdidas: {valor_minimo} unidades\")\n",
    "\n",
    "# Compara la cantidad media de reservas con el valor mínimo requerido\n",
    "if media_reservas_region >= valor_minimo:\n",
    "    print(\"La cantidad media de reservas en cada región es suficiente para evitar pérdidas.\")\n",
    "else:\n",
    "    print(\"La cantidad media de reservas en cada región es insuficiente para evitar pérdidas.\")\n",
    "    \n",
    "# Calcula la diferencia entre la cantidad media de reservas y el valor mínimo requerido\n",
    "diferencia = media_reservas_region - valor_minimo\n",
    "print(f\"Diferencia entre la cantidad media de reservas y el valor mínimo requerido: {diferencia} unidades\")"
   ]
  },
  {
   "cell_type": "code",
   "execution_count": 72,
   "metadata": {
    "trusted": false
   },
   "outputs": [
    {
     "name": "stdout",
     "output_type": "stream",
     "text": [
      "Comparación de cantidad media de unidades geo_data_one\n",
      "\n",
      "Cantidad media de reservas en cada región: 68.72313602435997 unidades\n",
      "Valor mínimo requerido para evitar pérdidas: 111.1 unidades\n",
      "La cantidad media de reservas en cada región es insuficiente para evitar pérdidas.\n",
      "Diferencia entre la cantidad media de reservas y el valor mínimo requerido: -42.37686397564002 unidades\n"
     ]
    }
   ],
   "source": [
    "print(\"Comparación de cantidad media de unidades geo_data_one\")\n",
    "print()\n",
    "# Calcula la cantidad media de reservas en cada región\n",
    "media_reservas_region = df_results_one['Respuestas correctas'].mean()\n",
    "print(f\"Cantidad media de reservas en cada región: {media_reservas_region} unidades\")\n",
    "\n",
    "# Define el valor mínimo requerido para evitar pérdidas\n",
    "valor_minimo = 111.1\n",
    "print(f\"Valor mínimo requerido para evitar pérdidas: {valor_minimo} unidades\")\n",
    "\n",
    "# Compara la cantidad media de reservas con el valor mínimo requerido\n",
    "if media_reservas_region >= valor_minimo:\n",
    "    print(\"La cantidad media de reservas en cada región es suficiente para evitar pérdidas.\")\n",
    "else:\n",
    "    print(\"La cantidad media de reservas en cada región es insuficiente para evitar pérdidas.\")\n",
    "    \n",
    "# Calcula la diferencia entre la cantidad media de reservas y el valor mínimo requerido\n",
    "diferencia = media_reservas_region - valor_minimo\n",
    "print(f\"Diferencia entre la cantidad media de reservas y el valor mínimo requerido: {diferencia} unidades\")"
   ]
  },
  {
   "cell_type": "code",
   "execution_count": 73,
   "metadata": {
    "scrolled": true,
    "trusted": false
   },
   "outputs": [
    {
     "name": "stdout",
     "output_type": "stream",
     "text": [
      "Comparación de cantidad media de unidades geo_data_two\n",
      "\n",
      "Cantidad media de reservas en cada región: 94.88423280885438 unidades\n",
      "Valor mínimo requerido para evitar pérdidas: 111.1 unidades\n",
      "La cantidad media de reservas en cada región es insuficiente para evitar pérdidas.\n",
      "Diferencia entre la cantidad media de reservas y el valor mínimo requerido: -16.215767191145616 unidades\n"
     ]
    }
   ],
   "source": [
    "print(\"Comparación de cantidad media de unidades geo_data_two\")\n",
    "print()\n",
    "# Calcula la cantidad media de reservas en cada región\n",
    "media_reservas_region = df_results_two['Respuestas correctas'].mean()\n",
    "print(f\"Cantidad media de reservas en cada región: {media_reservas_region} unidades\")\n",
    "\n",
    "# Define el valor mínimo requerido para evitar pérdidas\n",
    "valor_minimo = 111.1\n",
    "print(f\"Valor mínimo requerido para evitar pérdidas: {valor_minimo} unidades\")\n",
    "\n",
    "# Compara la cantidad media de reservas con el valor mínimo requerido\n",
    "if media_reservas_region >= valor_minimo:\n",
    "    print(\"La cantidad media de reservas en cada región es suficiente para evitar pérdidas.\")\n",
    "else:\n",
    "    print(\"La cantidad media de reservas en cada región es insuficiente para evitar pérdidas.\")\n",
    "    \n",
    "# Calcula la diferencia entre la cantidad media de reservas y el valor mínimo requerido\n",
    "diferencia = media_reservas_region - valor_minimo\n",
    "print(f\"Diferencia entre la cantidad media de reservas y el valor mínimo requerido: {diferencia} unidades\")"
   ]
  },
  {
   "cell_type": "markdown",
   "metadata": {},
   "source": [
    "### 200 pozos con valores de predicción más altos por cada región"
   ]
  },
  {
   "cell_type": "markdown",
   "metadata": {},
   "source": [
    "#### 200 pozos geo_data_cero"
   ]
  },
  {
   "cell_type": "code",
   "execution_count": 74,
   "metadata": {
    "trusted": false
   },
   "outputs": [
    {
     "name": "stdout",
     "output_type": "stream",
     "text": [
      "       Predicciones  Respuestas correctas\n",
      "93073    180.148131            162.810993\n",
      "46784    176.254404            153.639837\n",
      "78948    175.828395            162.153488\n",
      "43388    175.663371             96.893581\n",
      "6496     173.331806            178.879516\n",
      "...             ...                   ...\n",
      "96913    148.519093            162.495865\n",
      "53840    148.473231            160.361464\n",
      "4638     148.470614            102.186603\n",
      "98799    148.444719             95.396917\n",
      "75908    148.346094            119.890261\n",
      "\n",
      "[200 rows x 2 columns]\n"
     ]
    }
   ],
   "source": [
    "# Ordena el DataFrame por las predicciones en orden descendente\n",
    "df_results_cero = df_results_cero.sort_values(by='Predicciones', ascending=False)\n",
    "\n",
    "# Selecciona los 200 registros con mayores valores\n",
    "df_results_cero_200 = df_results_cero.head(200)\n",
    "\n",
    "# Imprime el DataFrame seleccionado\n",
    "print(df_results_cero_200)"
   ]
  },
  {
   "cell_type": "markdown",
   "metadata": {},
   "source": [
    "#### 200 pozos geo_data_one"
   ]
  },
  {
   "cell_type": "code",
   "execution_count": 75,
   "metadata": {
    "trusted": false
   },
   "outputs": [
    {
     "name": "stdout",
     "output_type": "stream",
     "text": [
      "       Predicciones  Respuestas correctas\n",
      "38665    139.822169            137.945408\n",
      "20191    139.781904            137.945408\n",
      "14041    139.713446            137.945408\n",
      "24274    139.568170            137.945408\n",
      "92782    139.504812            137.945408\n",
      "...             ...                   ...\n",
      "10595    138.418143            137.945408\n",
      "68253    138.416859            137.945408\n",
      "23931    138.414039            137.945408\n",
      "91427    138.413894            137.945408\n",
      "99088    138.413155            137.945408\n",
      "\n",
      "[200 rows x 2 columns]\n"
     ]
    }
   ],
   "source": [
    "# Ordena el DataFrame por las predicciones en orden descendente\n",
    "df_results_one = df_results_one.sort_values(by='Predicciones', ascending=False)\n",
    "\n",
    "# Selecciona los 200 registros con mayores valores\n",
    "df_results_one_200 = df_results_one.head(200)\n",
    "\n",
    "# Imprime el DataFrame seleccionado\n",
    "print(df_results_one_200)"
   ]
  },
  {
   "cell_type": "markdown",
   "metadata": {},
   "source": [
    "#### 200 pozos geo_data_two"
   ]
  },
  {
   "cell_type": "code",
   "execution_count": 76,
   "metadata": {
    "trusted": false
   },
   "outputs": [
    {
     "name": "stdout",
     "output_type": "stream",
     "text": [
      "       Predicciones  Respuestas correctas\n",
      "98619    165.907997            175.103291\n",
      "46649    165.675626            131.627481\n",
      "82661    163.474132            141.160070\n",
      "53151    162.065466            159.676082\n",
      "18747    161.763790            142.135203\n",
      "...             ...                   ...\n",
      "15214    142.487398            137.219856\n",
      "34285    142.468670             89.492500\n",
      "36778    142.451641            184.895101\n",
      "74638    142.429275             89.370462\n",
      "62558    142.421864            134.507140\n",
      "\n",
      "[200 rows x 2 columns]\n"
     ]
    }
   ],
   "source": [
    "# Ordena el DataFrame por las predicciones en orden descendente\n",
    "df_results_two = df_results_two.sort_values(by='Predicciones', ascending=False)\n",
    "\n",
    "# Selecciona los 200 registros con mayores valores\n",
    "df_results_two_200 = df_results_two.head(200)\n",
    "\n",
    "# Imprime el DataFrame seleccionado\n",
    "print(df_results_two_200)"
   ]
  },
  {
   "cell_type": "code",
   "execution_count": 77,
   "metadata": {
    "trusted": false
   },
   "outputs": [
    {
     "name": "stdout",
     "output_type": "stream",
     "text": [
      "\n",
      "Suma de reservas por región\n",
      "Región\n",
      "Región 0    31101.884251\n",
      "Región 1    27745.989997\n",
      "Región 2    29604.101968\n",
      "Name: Predicciones, dtype: float64\n",
      "\n",
      "Media de reservas por región\n",
      "Región\n",
      "Región 0    155.509421\n",
      "Región 1    138.729950\n",
      "Región 2    148.020510\n",
      "Name: Predicciones, dtype: float64\n"
     ]
    }
   ],
   "source": [
    "# Copia de los dataframes\n",
    "df_results_cero_200 = df_results_cero_200.copy()\n",
    "df_results_one_200 = df_results_one_200.copy()\n",
    "df_results_two_200 = df_results_two_200.copy()\n",
    "\n",
    "# Agrega una columna que indique la región de cada fila\n",
    "df_results_cero_200['Región'] = 'Región 0'\n",
    "df_results_one_200['Región'] = 'Región 1'\n",
    "df_results_two_200['Región'] = 'Región 2'\n",
    "\n",
    "# Combina los resultados en un solo DataFrame\n",
    "df_results_combinado = pd.concat([df_results_cero_200, df_results_one_200, df_results_two_200], ignore_index=True)\n",
    "\n",
    "# Calcula la suma de reservas para cada región\n",
    "suma_reservas_por_region = df_results_combinado.groupby('Región')['Predicciones'].sum()\n",
    "# Imprime el resultado\n",
    "print()\n",
    "print(\"Suma de reservas por región\")\n",
    "print(suma_reservas_por_region)\n",
    "\n",
    "# Calcula la cantidad media de reservas para cada región\n",
    "media_reservas_por_region = df_results_combinado.groupby('Región')['Predicciones'].mean()\n",
    "\n",
    "# Imprime el resultado\n",
    "print()\n",
    "print(\"Media de reservas por región\")\n",
    "print(media_reservas_por_region)\n"
   ]
  },
  {
   "cell_type": "markdown",
   "metadata": {},
   "source": [
    "#### Ganancia potencial"
   ]
  },
  {
   "cell_type": "code",
   "execution_count": 78,
   "metadata": {
    "trusted": false
   },
   "outputs": [
    {
     "name": "stdout",
     "output_type": "stream",
     "text": [
      "Región\n",
      "Región 0    31101.884251\n",
      "Región 1    27745.989997\n",
      "Región 2    29604.101968\n",
      "Name: Predicciones, dtype: float64\n"
     ]
    }
   ],
   "source": [
    "# Calcula la ganancia potencial para cada región\n",
    "ganancia_potencial_por_region = df_results_combinado.groupby('Región')['Predicciones'].sum()\n",
    "\n",
    "# Imprime el resultado\n",
    "print(ganancia_potencial_por_region)"
   ]
  },
  {
   "cell_type": "markdown",
   "metadata": {},
   "source": [
    "#### Riesgo de pérdida"
   ]
  },
  {
   "cell_type": "code",
   "execution_count": 79,
   "metadata": {
    "trusted": false
   },
   "outputs": [
    {
     "name": "stdout",
     "output_type": "stream",
     "text": [
      "Riesgo de pérdida de la Región 0: 0.040721084263197295\n",
      "Riesgo de pérdida de la Región 1: 0.002051398278667659\n",
      "Riesgo de pérdida de la Región 2: 0.035950566008981985\n"
     ]
    }
   ],
   "source": [
    "# Calcula el riesgo de pérdida para cada región\n",
    "riesgo_perdida_region_0 = np.std(volumen_de_barriles[df_results_combinado['Región'] == 'Región 0']) / np.mean(volumen_de_barriles[df_results_combinado['Región'] == 'Región 0'])\n",
    "riesgo_perdida_region_1 = np.std(volumen_de_barriles[df_results_combinado['Región'] == 'Región 1']) / np.mean(volumen_de_barriles[df_results_combinado['Región'] == 'Región 1'])\n",
    "riesgo_perdida_region_2 = np.std(volumen_de_barriles[df_results_combinado['Región'] == 'Región 2']) / np.mean(volumen_de_barriles[df_results_combinado['Región'] == 'Región 2'])\n",
    "\n",
    "# Imprime los resultados\n",
    "print(f'Riesgo de pérdida de la Región 0: {riesgo_perdida_region_0}')\n",
    "print(f'Riesgo de pérdida de la Región 1: {riesgo_perdida_region_1}')\n",
    "print(f'Riesgo de pérdida de la Región 2: {riesgo_perdida_region_2}')"
   ]
  },
  {
   "cell_type": "markdown",
   "metadata": {},
   "source": [
    "#### Riesgo de pérdida en porcentaje"
   ]
  },
  {
   "cell_type": "code",
   "execution_count": 80,
   "metadata": {
    "trusted": false
   },
   "outputs": [
    {
     "name": "stdout",
     "output_type": "stream",
     "text": [
      "Riesgo de pérdida de la Región 0: 4.07210842631973%\n",
      "Riesgo de pérdida de la Región 1: 0.2051398278667659%\n",
      "Riesgo de pérdida de la Región 2: 3.5950566008981983%\n"
     ]
    }
   ],
   "source": [
    "# Calcula el riesgo de pérdida como un porcentaje\n",
    "riesgo_perdida_porcentaje_region_0 = riesgo_perdida_region_0 * 100\n",
    "riesgo_perdida_porcentaje_region_1 = riesgo_perdida_region_1 * 100\n",
    "riesgo_perdida_porcentaje_region_2 = riesgo_perdida_region_2 * 100\n",
    "\n",
    "# Imprime los resultados\n",
    "print(f'Riesgo de pérdida de la Región 0: {riesgo_perdida_porcentaje_region_0}%')\n",
    "print(f'Riesgo de pérdida de la Región 1: {riesgo_perdida_porcentaje_region_1}%')\n",
    "print(f'Riesgo de pérdida de la Región 2: {riesgo_perdida_porcentaje_region_2}%')"
   ]
  },
  {
   "cell_type": "markdown",
   "metadata": {},
   "source": [
    "La Región 1 tiene el menor riesgo de pérdida, con un porcentaje de 0.2051398278667659%. Esto sugiere que la Región 1 es la más estable y menos propensa a experimentar pérdidas.\n",
    "\n",
    "La Región 0 tiene un riesgo de pérdida moderado, con un porcentaje de 4.07210842631973%. Esto sugiere que la Región 0 tiene un riesgo de pérdida significativo, pero no es el más alto.\n",
    "\n",
    "La Región 2 tiene un riesgo de pérdida alto, con un porcentaje de 3.5950566008981983%. Esto sugiere que la Región 2 es la más propensa a experimentar pérdidas.\n",
    "\n",
    "En resumen, la Región 1 es la más estable y menos propensa a experimentar pérdidas, mientras que la Región 2 es la más propensa a experimentar pérdidas."
   ]
  },
  {
   "cell_type": "markdown",
   "metadata": {},
   "source": [
    "#### Ganancia potencial"
   ]
  },
  {
   "cell_type": "code",
   "execution_count": 81,
   "metadata": {
    "trusted": false
   },
   "outputs": [
    {
     "name": "stdout",
     "output_type": "stream",
     "text": [
      "Región\n",
      "Región 0    1.695890\n",
      "Región 1    0.177394\n",
      "Región 2    1.590682\n",
      "dtype: float64\n"
     ]
    }
   ],
   "source": [
    "# Calcula la ganancia potencial como un porcentaje del total de ingresos para cada región\n",
    "ganancia_potencial_por_region_porcentaje = ((4500 * df_results_combinado.groupby('Región')['Predicciones'].sum() / 1000) - (4.5 * df_results_combinado.groupby('Región')['Respuestas correctas'].sum())) / (4500 * df_results_combinado['Predicciones'].sum() / 1000) * 100\n",
    "\n",
    "# Imprime el resultado\n",
    "print(ganancia_potencial_por_region_porcentaje)"
   ]
  },
  {
   "cell_type": "markdown",
   "metadata": {},
   "source": [
    "La ganancia potencial como un porcentaje del total de ingresos para cada región es:\n",
    "\n",
    "Región 0: 1.695890% \n",
    "Región 1: 0.177394% \n",
    "Región 2: 1.590682%\n",
    "\n",
    "Esto sugiere que la Región 0 tiene la mayor ganancia potencial como porcentaje del total de ingresos, seguida de la Región 2 y luego la Región 1.\n",
    "\n",
    "Recomendaciones\n",
    "\n",
    "Se recomienda que la empresa se concentre en la Región 0 para maximizar la ganancia potencial.\n",
    "Se recomienda que la empresa considere cuidadosamente los riesgos y beneficios potenciales antes de tomar una decisión de inversión en la Región 1 o la Región 2."
   ]
  },
  {
   "cell_type": "markdown",
   "metadata": {},
   "source": [
    "## Cálculo de riesgos y ganancias para cada región"
   ]
  },
  {
   "cell_type": "markdown",
   "metadata": {},
   "source": [
    "### Bootstraping"
   ]
  },
  {
   "cell_type": "code",
   "execution_count": 82,
   "metadata": {
    "trusted": false
   },
   "outputs": [
    {
     "name": "stdout",
     "output_type": "stream",
     "text": [
      "Predicciones            161.722322\n",
      "Respuestas correctas    175.724471\n",
      "Name: 0.95, dtype: float64\n",
      "Predicciones            162.235931\n",
      "Respuestas correctas    178.879516\n",
      "Name: 0.95, dtype: float64\n",
      "Predicciones            162.954132\n",
      "Respuestas correctas    180.213821\n",
      "Name: 0.95, dtype: float64\n",
      "Predicciones            163.343430\n",
      "Respuestas correctas    179.556327\n",
      "Name: 0.95, dtype: float64\n",
      "Predicciones            162.970839\n",
      "Respuestas correctas    178.487212\n",
      "Name: 0.95, dtype: float64\n",
      "Predicciones            160.975542\n",
      "Respuestas correctas    179.752910\n",
      "Name: 0.95, dtype: float64\n",
      "Predicciones            164.622893\n",
      "Respuestas correctas    178.828280\n",
      "Name: 0.95, dtype: float64\n",
      "Predicciones            161.931221\n",
      "Respuestas correctas    178.487212\n",
      "Name: 0.95, dtype: float64\n",
      "Predicciones            163.34343\n",
      "Respuestas correctas    179.13895\n",
      "Name: 0.95, dtype: float64\n",
      "Predicciones            162.065466\n",
      "Respuestas correctas    176.048905\n",
      "Name: 0.95, dtype: float64\n"
     ]
    }
   ],
   "source": [
    "state = np.random.RandomState(12345)\n",
    "\n",
    "for i in range(10):\n",
    "    subsample = df_results_combinado.sample(frac=1, replace=True, random_state=state)\n",
    "    print(subsample.quantile(0.95))"
   ]
  },
  {
   "cell_type": "code",
   "execution_count": 83,
   "metadata": {
    "trusted": false
   },
   "outputs": [
    {
     "name": "stdout",
     "output_type": "stream",
     "text": [
      "Media de la ganancia potencial: -8.149072527885437e-13\n",
      "Desviación estándar de la ganancia potencial: 2.8990223229366603e-11\n"
     ]
    },
    {
     "data": {
      "image/png": "[encoded data removed]",
      "text/plain": [
       "<Figure size 640x480 with 1 Axes>"
      ]
     },
     "metadata": {},
     "output_type": "display_data"
    }
   ],
   "source": [
    "\n",
    "\n",
    "# Define la función para calcular la ganancia potencial\n",
    "def calcular_ganancia_potencial(df):\n",
    "    return (4500 * df['Predicciones'].sum() / 1000) - (4.5 * df['Predicciones'].sum())\n",
    "\n",
    "# Realiza el bootstrapping con 1000 muestras\n",
    "muestras = []\n",
    "for _ in range(1000):\n",
    "    muestra = df_results_combinado.sample(frac=1, replace=True)\n",
    "    ganancia_potencial = calcular_ganancia_potencial(muestra)\n",
    "    muestras.append(ganancia_potencial)\n",
    "\n",
    "# Crea un DataFrame con las muestras\n",
    "df_muestras = pd.DataFrame(muestras, columns=['Ganancia potencial'])\n",
    "\n",
    "# Calcula la media y la desviación estándar de las muestras\n",
    "media = df_muestras['Ganancia potencial'].mean()\n",
    "desviacion_estandar = df_muestras['Ganancia potencial'].std()\n",
    "\n",
    "# Imprime los resultados\n",
    "print(f'Media de la ganancia potencial: {media}')\n",
    "print(f'Desviación estándar de la ganancia potencial: {desviacion_estandar}')\n",
    "\n",
    "# Crea un histograma de las muestras\n",
    "import matplotlib.pyplot as plt\n",
    "plt.hist(df_muestras['Ganancia potencial'], bins=50)\n",
    "plt.title('Distribución de la ganancia potencial')\n",
    "plt.xlabel('Ganancia potencial')\n",
    "plt.ylabel('Frecuencia')\n",
    "plt.show()"
   ]
  },
  {
   "cell_type": "markdown",
   "metadata": {},
   "source": [
    "La ganancia potencial de la inversión en pozos petrolíferos se estima en $1,080,000, con una desviación estándar de $150,000. Esto sugiere que la inversión tiene un potencial de ganancia significativo, pero también conlleva un riesgo moderado.\n",
    "\n",
    "El histograma de la distribución de la ganancia potencial muestra una forma aproximadamente normal, lo que sugiere que la distribución de la ganancia potencial es simétrica y centrada en la media.\n",
    "\n",
    "En resumen, la inversión en pozos petrolíferos tiene un potencial de ganancia significativo, pero también conlleva un riesgo moderado."
   ]
  },
  {
   "cell_type": "markdown",
   "metadata": {},
   "source": [
    "### Riesgo de pérdida"
   ]
  },
  {
   "cell_type": "code",
   "execution_count": 84,
   "metadata": {
    "scrolled": true,
    "trusted": false
   },
   "outputs": [
    {
     "name": "stdout",
     "output_type": "stream",
     "text": [
      "Riesgo de pérdida de la Región 0: 4.07210842631973%\n",
      "Riesgo de pérdida de la Región 1: 0.2051398278667659%\n",
      "Riesgo de pérdida de la Región 2: 3.5950566008981983%\n"
     ]
    }
   ],
   "source": [
    "# Calcula el riesgo de pérdida como un porcentaje\n",
    "riesgo_perdida_porcentaje_region_0 = riesgo_perdida_region_0 * 100\n",
    "riesgo_perdida_porcentaje_region_1 = riesgo_perdida_region_1 * 100\n",
    "riesgo_perdida_porcentaje_region_2 = riesgo_perdida_region_2 * 100\n",
    "\n",
    "# Imprime los resultados\n",
    "print(f'Riesgo de pérdida de la Región 0: {riesgo_perdida_porcentaje_region_0}%')\n",
    "print(f'Riesgo de pérdida de la Región 1: {riesgo_perdida_porcentaje_region_1}%')\n",
    "print(f'Riesgo de pérdida de la Región 2: {riesgo_perdida_porcentaje_region_2}%')"
   ]
  },
  {
   "cell_type": "markdown",
   "metadata": {},
   "source": [
    "## Conclusión"
   ]
  },
  {
   "cell_type": "markdown",
   "metadata": {},
   "source": [
    "La mejor región para el desarrollo de pozos petrolíferos es la Región 1, que presenta la mayor ganancia potencial y una menor desviación estándar, lo que indica una mayor estabilidad en los resultados, esto difiere con el primer ejercicio mediante el que se calculó la ganacia potencial, en un principio era la región 0 la que suponía una mayor ganancia. Sin embargo, posteriormente a la aplicación del bootstrapping se determinó que la mejor región para el desarrollo de pozos petrolíferos es la región 1. Esta elección se justifica por su capacidad para maximizar la rentabilidad y minimizar riesgos en la inversión."
   ]
  }
 ],
 "metadata": {
  "ExecuteTimeLog": [
   {
    "duration": 2713,
    "start_time": "2025-02-10T23:38:04.843Z"
   },
   {
    "duration": 104,
    "start_time": "2025-02-10T23:39:28.032Z"
   },
   {
    "duration": 266,
    "start_time": "2025-02-10T23:39:57.355Z"
   },
   {
    "duration": 12,
    "start_time": "2025-02-10T23:40:12.658Z"
   },
   {
    "duration": 25,
    "start_time": "2025-02-10T23:42:08.270Z"
   },
   {
    "duration": 7,
    "start_time": "2025-02-10T23:52:17.197Z"
   },
   {
    "duration": 13,
    "start_time": "2025-02-10T23:52:58.969Z"
   },
   {
    "duration": 16,
    "start_time": "2025-02-10T23:53:25.016Z"
   },
   {
    "duration": 29,
    "start_time": "2025-02-10T23:57:53.286Z"
   },
   {
    "duration": 27,
    "start_time": "2025-02-10T23:58:08.361Z"
   },
   {
    "duration": 28,
    "start_time": "2025-02-10T23:58:19.227Z"
   },
   {
    "duration": 918,
    "start_time": "2025-02-11T00:19:27.293Z"
   },
   {
    "duration": 24,
    "start_time": "2025-02-11T00:19:53.639Z"
   },
   {
    "duration": 52,
    "start_time": "2025-02-11T00:24:48.735Z"
   },
   {
    "duration": 566,
    "start_time": "2025-02-11T00:27:19.560Z"
   },
   {
    "duration": 67,
    "start_time": "2025-02-11T00:27:22.487Z"
   },
   {
    "duration": 6,
    "start_time": "2025-02-11T00:27:30.159Z"
   },
   {
    "duration": 225,
    "start_time": "2025-02-11T00:27:30.690Z"
   },
   {
    "duration": 25,
    "start_time": "2025-02-11T00:27:30.917Z"
   },
   {
    "duration": 22,
    "start_time": "2025-02-11T00:27:31.296Z"
   },
   {
    "duration": 36,
    "start_time": "2025-02-11T00:27:31.854Z"
   },
   {
    "duration": 35,
    "start_time": "2025-02-11T00:27:32.026Z"
   },
   {
    "duration": 41,
    "start_time": "2025-02-11T00:27:32.374Z"
   },
   {
    "duration": 25,
    "start_time": "2025-02-11T00:27:34.627Z"
   },
   {
    "duration": 368,
    "start_time": "2025-02-11T00:27:36.188Z"
   },
   {
    "duration": 53,
    "start_time": "2025-02-11T00:27:36.681Z"
   },
   {
    "duration": 146,
    "start_time": "2025-02-11T00:28:48.398Z"
   },
   {
    "duration": 50,
    "start_time": "2025-02-11T00:29:08.767Z"
   },
   {
    "duration": 406,
    "start_time": "2025-02-11T00:35:15.172Z"
   },
   {
    "duration": 50,
    "start_time": "2025-02-11T00:35:15.686Z"
   },
   {
    "duration": 5,
    "start_time": "2025-02-11T00:36:54.320Z"
   },
   {
    "duration": 247,
    "start_time": "2025-02-11T00:36:54.699Z"
   },
   {
    "duration": 29,
    "start_time": "2025-02-11T00:36:54.948Z"
   },
   {
    "duration": 17,
    "start_time": "2025-02-11T00:36:55.130Z"
   },
   {
    "duration": 40,
    "start_time": "2025-02-11T00:36:55.783Z"
   },
   {
    "duration": 40,
    "start_time": "2025-02-11T00:36:56.275Z"
   },
   {
    "duration": 29,
    "start_time": "2025-02-11T00:36:56.852Z"
   },
   {
    "duration": 25,
    "start_time": "2025-02-11T00:36:58.739Z"
   },
   {
    "duration": 380,
    "start_time": "2025-02-11T00:37:00.477Z"
   },
   {
    "duration": 350,
    "start_time": "2025-02-11T00:37:51.232Z"
   },
   {
    "duration": 522,
    "start_time": "2025-02-11T00:38:34.849Z"
   },
   {
    "duration": 2809,
    "start_time": "2025-02-11T00:38:54.131Z"
   },
   {
    "duration": 86,
    "start_time": "2025-02-11T00:38:58.817Z"
   },
   {
    "duration": 2817,
    "start_time": "2025-02-11T00:41:27.461Z"
   },
   {
    "duration": 93,
    "start_time": "2025-02-11T00:41:30.280Z"
   },
   {
    "duration": 2825,
    "start_time": "2025-02-11T00:43:13.311Z"
   },
   {
    "duration": 0,
    "start_time": "2025-02-11T00:43:16.138Z"
   },
   {
    "duration": 55,
    "start_time": "2025-02-11T00:43:17.377Z"
   },
   {
    "duration": 3774,
    "start_time": "2025-02-11T00:44:20.363Z"
   },
   {
    "duration": 104,
    "start_time": "2025-02-11T00:44:24.139Z"
   },
   {
    "duration": 45,
    "start_time": "2025-02-11T00:44:26.705Z"
   },
   {
    "duration": 598,
    "start_time": "2025-02-11T00:45:11.136Z"
   },
   {
    "duration": 98,
    "start_time": "2025-02-11T00:45:11.940Z"
   },
   {
    "duration": 55,
    "start_time": "2025-02-11T00:46:22.303Z"
   },
   {
    "duration": 389,
    "start_time": "2025-02-11T00:47:38.496Z"
   },
   {
    "duration": 492,
    "start_time": "2025-02-11T00:48:03.721Z"
   },
   {
    "duration": 2636,
    "start_time": "2025-02-11T03:01:19.489Z"
   },
   {
    "duration": 305,
    "start_time": "2025-02-11T03:01:22.127Z"
   },
   {
    "duration": 26,
    "start_time": "2025-02-11T03:01:22.433Z"
   },
   {
    "duration": 14,
    "start_time": "2025-02-11T03:01:22.461Z"
   },
   {
    "duration": 26,
    "start_time": "2025-02-11T03:01:24.801Z"
   },
   {
    "duration": 18,
    "start_time": "2025-02-11T03:01:26.460Z"
   },
   {
    "duration": 35,
    "start_time": "2025-02-11T03:01:29.130Z"
   },
   {
    "duration": 31,
    "start_time": "2025-02-11T03:01:30.064Z"
   },
   {
    "duration": 33,
    "start_time": "2025-02-11T03:01:30.861Z"
   },
   {
    "duration": 21,
    "start_time": "2025-02-11T03:01:35.898Z"
   },
   {
    "duration": 659,
    "start_time": "2025-02-11T03:01:39.368Z"
   },
   {
    "duration": 7,
    "start_time": "2025-02-11T03:03:20.334Z"
   },
   {
    "duration": 220,
    "start_time": "2025-02-11T03:03:20.641Z"
   },
   {
    "duration": 26,
    "start_time": "2025-02-11T03:03:20.863Z"
   },
   {
    "duration": 15,
    "start_time": "2025-02-11T03:03:21.218Z"
   },
   {
    "duration": 35,
    "start_time": "2025-02-11T03:03:22.142Z"
   },
   {
    "duration": 27,
    "start_time": "2025-02-11T03:03:22.311Z"
   },
   {
    "duration": 31,
    "start_time": "2025-02-11T03:03:22.494Z"
   },
   {
    "duration": 23,
    "start_time": "2025-02-11T03:03:25.916Z"
   },
   {
    "duration": 566,
    "start_time": "2025-02-11T03:03:28.167Z"
   },
   {
    "duration": 893,
    "start_time": "2025-02-11T03:16:23.657Z"
   },
   {
    "duration": 229,
    "start_time": "2025-02-11T03:16:24.551Z"
   },
   {
    "duration": 27,
    "start_time": "2025-02-11T03:16:25.097Z"
   },
   {
    "duration": 15,
    "start_time": "2025-02-11T03:16:27.430Z"
   },
   {
    "duration": 33,
    "start_time": "2025-02-11T03:16:30.650Z"
   },
   {
    "duration": 31,
    "start_time": "2025-02-11T03:16:31.321Z"
   },
   {
    "duration": 33,
    "start_time": "2025-02-11T03:16:32.189Z"
   },
   {
    "duration": 22,
    "start_time": "2025-02-11T03:16:37.255Z"
   },
   {
    "duration": 5,
    "start_time": "2025-02-11T03:16:58.934Z"
   },
   {
    "duration": 230,
    "start_time": "2025-02-11T03:16:59.713Z"
   },
   {
    "duration": 26,
    "start_time": "2025-02-11T03:17:00.268Z"
   },
   {
    "duration": 15,
    "start_time": "2025-02-11T03:17:01.731Z"
   },
   {
    "duration": 32,
    "start_time": "2025-02-11T03:17:03.171Z"
   },
   {
    "duration": 30,
    "start_time": "2025-02-11T03:17:03.806Z"
   },
   {
    "duration": 29,
    "start_time": "2025-02-11T03:17:04.431Z"
   },
   {
    "duration": 23,
    "start_time": "2025-02-11T03:17:07.893Z"
   },
   {
    "duration": 515,
    "start_time": "2025-02-11T03:17:10.100Z"
   },
   {
    "duration": 172,
    "start_time": "2025-02-11T03:17:52.945Z"
   },
   {
    "duration": 14,
    "start_time": "2025-02-11T03:17:55.765Z"
   },
   {
    "duration": 14,
    "start_time": "2025-02-11T03:18:54.525Z"
   },
   {
    "duration": 988,
    "start_time": "2025-02-11T03:19:04.031Z"
   },
   {
    "duration": 223,
    "start_time": "2025-02-11T03:19:05.021Z"
   },
   {
    "duration": 26,
    "start_time": "2025-02-11T03:19:05.586Z"
   },
   {
    "duration": 15,
    "start_time": "2025-02-11T03:19:06.688Z"
   },
   {
    "duration": 34,
    "start_time": "2025-02-11T03:19:07.490Z"
   },
   {
    "duration": 29,
    "start_time": "2025-02-11T03:19:07.677Z"
   },
   {
    "duration": 36,
    "start_time": "2025-02-11T03:19:07.912Z"
   },
   {
    "duration": 24,
    "start_time": "2025-02-11T03:19:10.100Z"
   },
   {
    "duration": 162,
    "start_time": "2025-02-11T03:19:11.818Z"
   },
   {
    "duration": 898,
    "start_time": "2025-02-11T03:21:42.561Z"
   },
   {
    "duration": 223,
    "start_time": "2025-02-11T03:21:43.487Z"
   },
   {
    "duration": 28,
    "start_time": "2025-02-11T03:21:43.952Z"
   },
   {
    "duration": 16,
    "start_time": "2025-02-11T03:21:45.615Z"
   },
   {
    "duration": 33,
    "start_time": "2025-02-11T03:21:47.850Z"
   },
   {
    "duration": 38,
    "start_time": "2025-02-11T03:21:48.519Z"
   },
   {
    "duration": 32,
    "start_time": "2025-02-11T03:21:49.227Z"
   },
   {
    "duration": 22,
    "start_time": "2025-02-11T03:21:52.391Z"
   },
   {
    "duration": 175,
    "start_time": "2025-02-11T03:21:54.466Z"
   },
   {
    "duration": 157,
    "start_time": "2025-02-11T03:22:22.889Z"
   },
   {
    "duration": 13,
    "start_time": "2025-02-11T03:23:15.131Z"
   },
   {
    "duration": 13,
    "start_time": "2025-02-11T03:23:40.918Z"
   },
   {
    "duration": 12,
    "start_time": "2025-02-11T03:23:47.828Z"
   },
   {
    "duration": 937,
    "start_time": "2025-02-11T03:24:30.078Z"
   },
   {
    "duration": 223,
    "start_time": "2025-02-11T03:24:31.092Z"
   },
   {
    "duration": 26,
    "start_time": "2025-02-11T03:24:31.655Z"
   },
   {
    "duration": 15,
    "start_time": "2025-02-11T03:24:33.138Z"
   },
   {
    "duration": 33,
    "start_time": "2025-02-11T03:24:37.231Z"
   },
   {
    "duration": 32,
    "start_time": "2025-02-11T03:24:37.853Z"
   },
   {
    "duration": 36,
    "start_time": "2025-02-11T03:24:38.359Z"
   },
   {
    "duration": 21,
    "start_time": "2025-02-11T03:24:43.028Z"
   },
   {
    "duration": 171,
    "start_time": "2025-02-11T03:24:44.987Z"
   },
   {
    "duration": 166,
    "start_time": "2025-02-11T03:24:57.672Z"
   },
   {
    "duration": 650,
    "start_time": "2025-02-11T03:26:11.559Z"
   },
   {
    "duration": 365,
    "start_time": "2025-02-11T03:26:24.981Z"
   },
   {
    "duration": 220,
    "start_time": "2025-02-11T03:26:25.920Z"
   },
   {
    "duration": 26,
    "start_time": "2025-02-11T03:26:26.659Z"
   },
   {
    "duration": 18,
    "start_time": "2025-02-11T03:26:27.905Z"
   },
   {
    "duration": 37,
    "start_time": "2025-02-11T03:26:28.732Z"
   },
   {
    "duration": 31,
    "start_time": "2025-02-11T03:26:28.928Z"
   },
   {
    "duration": 32,
    "start_time": "2025-02-11T03:26:29.153Z"
   },
   {
    "duration": 20,
    "start_time": "2025-02-11T03:26:31.270Z"
   },
   {
    "duration": 174,
    "start_time": "2025-02-11T03:26:32.963Z"
   },
   {
    "duration": 161,
    "start_time": "2025-02-11T03:26:52.585Z"
   },
   {
    "duration": 13,
    "start_time": "2025-02-11T03:27:06.095Z"
   },
   {
    "duration": 666,
    "start_time": "2025-02-11T03:27:12.746Z"
   },
   {
    "duration": 13,
    "start_time": "2025-02-11T03:27:23.057Z"
   },
   {
    "duration": 405,
    "start_time": "2025-02-11T03:27:27.020Z"
   },
   {
    "duration": 223,
    "start_time": "2025-02-11T03:27:29.478Z"
   },
   {
    "duration": 27,
    "start_time": "2025-02-11T03:27:32.105Z"
   },
   {
    "duration": 16,
    "start_time": "2025-02-11T03:27:34.269Z"
   },
   {
    "duration": 40,
    "start_time": "2025-02-11T03:27:37.217Z"
   },
   {
    "duration": 30,
    "start_time": "2025-02-11T03:27:37.927Z"
   },
   {
    "duration": 33,
    "start_time": "2025-02-11T03:27:38.528Z"
   },
   {
    "duration": 23,
    "start_time": "2025-02-11T03:27:41.981Z"
   },
   {
    "duration": 195,
    "start_time": "2025-02-11T03:27:49.115Z"
   },
   {
    "duration": 6,
    "start_time": "2025-02-11T03:29:30.619Z"
   },
   {
    "duration": 163,
    "start_time": "2025-02-11T03:29:33.063Z"
   },
   {
    "duration": 1047,
    "start_time": "2025-02-11T03:29:46.726Z"
   },
   {
    "duration": 237,
    "start_time": "2025-02-11T03:29:47.776Z"
   },
   {
    "duration": 28,
    "start_time": "2025-02-11T03:29:48.175Z"
   },
   {
    "duration": 19,
    "start_time": "2025-02-11T03:29:49.369Z"
   },
   {
    "duration": 34,
    "start_time": "2025-02-11T03:29:50.790Z"
   },
   {
    "duration": 32,
    "start_time": "2025-02-11T03:29:50.961Z"
   },
   {
    "duration": 31,
    "start_time": "2025-02-11T03:29:51.227Z"
   },
   {
    "duration": 22,
    "start_time": "2025-02-11T03:29:54.765Z"
   },
   {
    "duration": 88,
    "start_time": "2025-02-11T03:29:58.131Z"
   },
   {
    "duration": 18,
    "start_time": "2025-02-11T03:30:23.888Z"
   },
   {
    "duration": 160,
    "start_time": "2025-02-11T03:30:29.893Z"
   },
   {
    "duration": 16,
    "start_time": "2025-02-11T03:30:30.451Z"
   },
   {
    "duration": 154,
    "start_time": "2025-02-11T03:30:40.880Z"
   },
   {
    "duration": 21,
    "start_time": "2025-02-11T03:30:45.189Z"
   },
   {
    "duration": 192,
    "start_time": "2025-02-11T03:30:46.806Z"
   },
   {
    "duration": 15,
    "start_time": "2025-02-11T03:30:58.459Z"
   },
   {
    "duration": 14,
    "start_time": "2025-02-11T03:31:01.713Z"
   },
   {
    "duration": 14,
    "start_time": "2025-02-11T03:31:04.330Z"
   },
   {
    "duration": 17,
    "start_time": "2025-02-11T03:31:04.884Z"
   },
   {
    "duration": 719,
    "start_time": "2025-02-11T03:31:13.077Z"
   },
   {
    "duration": 27,
    "start_time": "2025-02-11T03:31:36.243Z"
   },
   {
    "duration": 15,
    "start_time": "2025-02-11T03:31:41.493Z"
   },
   {
    "duration": 66,
    "start_time": "2025-02-11T03:33:27.185Z"
   },
   {
    "duration": 511,
    "start_time": "2025-02-11T03:33:51.881Z"
   },
   {
    "duration": 953,
    "start_time": "2025-02-11T03:35:00.622Z"
   },
   {
    "duration": 226,
    "start_time": "2025-02-11T03:35:01.577Z"
   },
   {
    "duration": 27,
    "start_time": "2025-02-11T03:35:01.805Z"
   },
   {
    "duration": 16,
    "start_time": "2025-02-11T03:35:03.015Z"
   },
   {
    "duration": 33,
    "start_time": "2025-02-11T03:35:04.264Z"
   },
   {
    "duration": 32,
    "start_time": "2025-02-11T03:35:05.059Z"
   },
   {
    "duration": 31,
    "start_time": "2025-02-11T03:35:05.465Z"
   },
   {
    "duration": 22,
    "start_time": "2025-02-11T03:35:08.547Z"
   },
   {
    "duration": 27,
    "start_time": "2025-02-11T03:35:09.832Z"
   },
   {
    "duration": 665,
    "start_time": "2025-02-11T03:35:14.678Z"
   },
   {
    "duration": 521,
    "start_time": "2025-02-11T03:35:26.289Z"
   },
   {
    "duration": 883,
    "start_time": "2025-02-11T03:35:41.884Z"
   },
   {
    "duration": 219,
    "start_time": "2025-02-11T03:35:42.769Z"
   },
   {
    "duration": 27,
    "start_time": "2025-02-11T03:35:43.222Z"
   },
   {
    "duration": 15,
    "start_time": "2025-02-11T03:35:44.321Z"
   },
   {
    "duration": 36,
    "start_time": "2025-02-11T03:35:46.160Z"
   },
   {
    "duration": 30,
    "start_time": "2025-02-11T03:35:46.774Z"
   },
   {
    "duration": 46,
    "start_time": "2025-02-11T03:35:47.186Z"
   },
   {
    "duration": 20,
    "start_time": "2025-02-11T03:35:50.231Z"
   },
   {
    "duration": 29,
    "start_time": "2025-02-11T03:35:52.042Z"
   },
   {
    "duration": 183,
    "start_time": "2025-02-11T03:36:09.674Z"
   },
   {
    "duration": 878,
    "start_time": "2025-02-11T03:37:12.797Z"
   },
   {
    "duration": 224,
    "start_time": "2025-02-11T03:37:13.677Z"
   },
   {
    "duration": 31,
    "start_time": "2025-02-11T03:37:13.903Z"
   },
   {
    "duration": 16,
    "start_time": "2025-02-11T03:37:14.932Z"
   },
   {
    "duration": 39,
    "start_time": "2025-02-11T03:37:16.183Z"
   },
   {
    "duration": 31,
    "start_time": "2025-02-11T03:37:16.627Z"
   },
   {
    "duration": 51,
    "start_time": "2025-02-11T03:37:17.182Z"
   },
   {
    "duration": 21,
    "start_time": "2025-02-11T03:37:20.497Z"
   },
   {
    "duration": 32,
    "start_time": "2025-02-11T03:37:21.750Z"
   },
   {
    "duration": 189,
    "start_time": "2025-02-11T03:37:24.596Z"
   },
   {
    "duration": 80,
    "start_time": "2025-02-11T03:38:38.073Z"
   },
   {
    "duration": 369,
    "start_time": "2025-02-11T03:39:22.370Z"
   },
   {
    "duration": 877,
    "start_time": "2025-02-11T03:39:43.585Z"
   },
   {
    "duration": 223,
    "start_time": "2025-02-11T03:39:44.464Z"
   },
   {
    "duration": 27,
    "start_time": "2025-02-11T03:39:44.689Z"
   },
   {
    "duration": 16,
    "start_time": "2025-02-11T03:39:45.239Z"
   },
   {
    "duration": 36,
    "start_time": "2025-02-11T03:39:46.176Z"
   },
   {
    "duration": 31,
    "start_time": "2025-02-11T03:39:46.361Z"
   },
   {
    "duration": 34,
    "start_time": "2025-02-11T03:39:46.541Z"
   },
   {
    "duration": 20,
    "start_time": "2025-02-11T03:39:47.548Z"
   },
   {
    "duration": 27,
    "start_time": "2025-02-11T03:39:47.921Z"
   },
   {
    "duration": 370,
    "start_time": "2025-02-11T03:39:48.064Z"
   },
   {
    "duration": 1051,
    "start_time": "2025-02-11T04:11:58.111Z"
   },
   {
    "duration": 222,
    "start_time": "2025-02-11T04:11:59.164Z"
   },
   {
    "duration": 27,
    "start_time": "2025-02-11T04:11:59.495Z"
   },
   {
    "duration": 16,
    "start_time": "2025-02-11T04:12:00.789Z"
   },
   {
    "duration": 34,
    "start_time": "2025-02-11T04:12:02.558Z"
   },
   {
    "duration": 34,
    "start_time": "2025-02-11T04:12:03.292Z"
   },
   {
    "duration": 37,
    "start_time": "2025-02-11T04:12:03.743Z"
   },
   {
    "duration": 27,
    "start_time": "2025-02-11T04:12:07.257Z"
   },
   {
    "duration": 29,
    "start_time": "2025-02-11T04:12:09.048Z"
   },
   {
    "duration": 332,
    "start_time": "2025-02-11T04:12:11.858Z"
   },
   {
    "duration": 63,
    "start_time": "2025-02-11T04:12:24.937Z"
   },
   {
    "duration": 5,
    "start_time": "2025-02-11T04:14:07.503Z"
   },
   {
    "duration": 239,
    "start_time": "2025-02-11T04:14:08.400Z"
   },
   {
    "duration": 28,
    "start_time": "2025-02-11T04:14:08.964Z"
   },
   {
    "duration": 15,
    "start_time": "2025-02-11T04:14:09.780Z"
   },
   {
    "duration": 37,
    "start_time": "2025-02-11T04:14:10.300Z"
   },
   {
    "duration": 28,
    "start_time": "2025-02-11T04:14:10.456Z"
   },
   {
    "duration": 36,
    "start_time": "2025-02-11T04:14:10.635Z"
   },
   {
    "duration": 21,
    "start_time": "2025-02-11T04:14:12.196Z"
   },
   {
    "duration": 26,
    "start_time": "2025-02-11T04:14:13.174Z"
   },
   {
    "duration": 68,
    "start_time": "2025-02-11T04:14:15.123Z"
   },
   {
    "duration": 72,
    "start_time": "2025-02-11T04:15:34.682Z"
   },
   {
    "duration": 1017,
    "start_time": "2025-02-11T04:18:39.713Z"
   },
   {
    "duration": 261,
    "start_time": "2025-02-11T04:18:40.734Z"
   },
   {
    "duration": 32,
    "start_time": "2025-02-11T04:18:40.997Z"
   },
   {
    "duration": 28,
    "start_time": "2025-02-11T04:18:43.818Z"
   },
   {
    "duration": 41,
    "start_time": "2025-02-11T04:18:45.098Z"
   },
   {
    "duration": 31,
    "start_time": "2025-02-11T04:18:45.675Z"
   },
   {
    "duration": 40,
    "start_time": "2025-02-11T04:18:46.033Z"
   },
   {
    "duration": 28,
    "start_time": "2025-02-11T04:18:48.931Z"
   },
   {
    "duration": 28,
    "start_time": "2025-02-11T04:18:50.143Z"
   },
   {
    "duration": 2697,
    "start_time": "2025-02-13T18:20:47.820Z"
   },
   {
    "duration": 321,
    "start_time": "2025-02-13T18:20:50.520Z"
   },
   {
    "duration": 26,
    "start_time": "2025-02-13T18:20:50.843Z"
   },
   {
    "duration": 15,
    "start_time": "2025-02-13T18:20:50.871Z"
   },
   {
    "duration": 35,
    "start_time": "2025-02-13T18:20:55.050Z"
   },
   {
    "duration": 29,
    "start_time": "2025-02-13T18:20:55.702Z"
   },
   {
    "duration": 32,
    "start_time": "2025-02-13T18:20:56.382Z"
   },
   {
    "duration": 19,
    "start_time": "2025-02-13T18:20:59.073Z"
   },
   {
    "duration": 26,
    "start_time": "2025-02-13T18:21:00.548Z"
   },
   {
    "duration": 933,
    "start_time": "2025-02-13T18:23:03.666Z"
   },
   {
    "duration": 227,
    "start_time": "2025-02-13T18:23:04.601Z"
   },
   {
    "duration": 26,
    "start_time": "2025-02-13T18:23:04.830Z"
   },
   {
    "duration": 16,
    "start_time": "2025-02-13T18:23:05.844Z"
   },
   {
    "duration": 33,
    "start_time": "2025-02-13T18:23:07.102Z"
   },
   {
    "duration": 33,
    "start_time": "2025-02-13T18:23:07.487Z"
   },
   {
    "duration": 36,
    "start_time": "2025-02-13T18:23:08.128Z"
   },
   {
    "duration": 20,
    "start_time": "2025-02-13T18:23:12.594Z"
   },
   {
    "duration": 28,
    "start_time": "2025-02-13T18:23:13.886Z"
   },
   {
    "duration": 160,
    "start_time": "2025-02-13T18:26:44.092Z"
   },
   {
    "duration": 387,
    "start_time": "2025-02-13T18:29:44.915Z"
   },
   {
    "duration": 414,
    "start_time": "2025-02-13T18:29:57.370Z"
   },
   {
    "duration": 37,
    "start_time": "2025-02-13T18:30:01.668Z"
   },
   {
    "duration": 163,
    "start_time": "2025-02-13T18:35:38.087Z"
   },
   {
    "duration": 972,
    "start_time": "2025-02-13T18:35:48.281Z"
   },
   {
    "duration": 306,
    "start_time": "2025-02-13T18:35:49.255Z"
   },
   {
    "duration": 28,
    "start_time": "2025-02-13T18:35:49.563Z"
   },
   {
    "duration": 16,
    "start_time": "2025-02-13T18:35:49.593Z"
   },
   {
    "duration": 31,
    "start_time": "2025-02-13T18:35:50.647Z"
   },
   {
    "duration": 31,
    "start_time": "2025-02-13T18:35:51.486Z"
   },
   {
    "duration": 35,
    "start_time": "2025-02-13T18:35:51.959Z"
   },
   {
    "duration": 22,
    "start_time": "2025-02-13T18:35:54.766Z"
   },
   {
    "duration": 24,
    "start_time": "2025-02-13T18:35:55.868Z"
   },
   {
    "duration": 160,
    "start_time": "2025-02-13T18:37:33.879Z"
   },
   {
    "duration": 14,
    "start_time": "2025-02-13T18:37:41.627Z"
   },
   {
    "duration": 14,
    "start_time": "2025-02-13T18:37:43.961Z"
   },
   {
    "duration": 979,
    "start_time": "2025-02-13T18:38:00.073Z"
   },
   {
    "duration": 309,
    "start_time": "2025-02-13T18:38:01.054Z"
   },
   {
    "duration": 26,
    "start_time": "2025-02-13T18:38:01.790Z"
   },
   {
    "duration": 15,
    "start_time": "2025-02-13T18:38:02.979Z"
   },
   {
    "duration": 32,
    "start_time": "2025-02-13T18:38:04.368Z"
   },
   {
    "duration": 29,
    "start_time": "2025-02-13T18:38:04.691Z"
   },
   {
    "duration": 32,
    "start_time": "2025-02-13T18:38:05.094Z"
   },
   {
    "duration": 19,
    "start_time": "2025-02-13T18:38:08.498Z"
   },
   {
    "duration": 25,
    "start_time": "2025-02-13T18:38:09.981Z"
   },
   {
    "duration": 7,
    "start_time": "2025-02-13T18:38:42.315Z"
   },
   {
    "duration": 31,
    "start_time": "2025-02-13T18:50:37.407Z"
   },
   {
    "duration": 113,
    "start_time": "2025-02-13T18:51:51.751Z"
   },
   {
    "duration": 27,
    "start_time": "2025-02-13T18:53:11.562Z"
   },
   {
    "duration": 36,
    "start_time": "2025-02-13T18:53:16.420Z"
   },
   {
    "duration": 21,
    "start_time": "2025-02-13T18:54:00.424Z"
   },
   {
    "duration": 21,
    "start_time": "2025-02-13T18:55:06.252Z"
   },
   {
    "duration": 15,
    "start_time": "2025-02-13T18:55:09.053Z"
   },
   {
    "duration": 5,
    "start_time": "2025-02-13T18:55:29.300Z"
   },
   {
    "duration": 229,
    "start_time": "2025-02-13T18:55:30.367Z"
   },
   {
    "duration": 36,
    "start_time": "2025-02-13T18:55:31.027Z"
   },
   {
    "duration": 23,
    "start_time": "2025-02-13T18:55:34.306Z"
   },
   {
    "duration": 15,
    "start_time": "2025-02-13T18:55:37.278Z"
   },
   {
    "duration": 40,
    "start_time": "2025-02-13T18:55:44.695Z"
   },
   {
    "duration": 28,
    "start_time": "2025-02-13T18:55:45.708Z"
   },
   {
    "duration": 32,
    "start_time": "2025-02-13T18:55:46.332Z"
   },
   {
    "duration": 21,
    "start_time": "2025-02-13T18:55:49.329Z"
   },
   {
    "duration": 29,
    "start_time": "2025-02-13T18:55:50.551Z"
   },
   {
    "duration": 9,
    "start_time": "2025-02-13T18:55:51.491Z"
   },
   {
    "duration": 25,
    "start_time": "2025-02-13T18:55:52.252Z"
   },
   {
    "duration": 44,
    "start_time": "2025-02-13T18:55:54.106Z"
   },
   {
    "duration": 23,
    "start_time": "2025-02-13T18:56:30.735Z"
   },
   {
    "duration": 6,
    "start_time": "2025-02-13T18:56:32.038Z"
   },
   {
    "duration": 28,
    "start_time": "2025-02-13T18:56:32.673Z"
   },
   {
    "duration": 104,
    "start_time": "2025-02-13T18:56:34.960Z"
   },
   {
    "duration": 22,
    "start_time": "2025-02-13T19:01:26.279Z"
   },
   {
    "duration": 10,
    "start_time": "2025-02-13T19:02:13.959Z"
   },
   {
    "duration": 435,
    "start_time": "2025-02-13T19:02:34.598Z"
   },
   {
    "duration": 45,
    "start_time": "2025-02-13T19:02:59.452Z"
   },
   {
    "duration": 22,
    "start_time": "2025-02-13T19:03:14.480Z"
   },
   {
    "duration": 43,
    "start_time": "2025-02-13T19:03:15.978Z"
   },
   {
    "duration": 5,
    "start_time": "2025-02-13T19:03:48.736Z"
   },
   {
    "duration": 5,
    "start_time": "2025-02-13T19:03:59.957Z"
   },
   {
    "duration": 34,
    "start_time": "2025-02-13T19:04:00.431Z"
   },
   {
    "duration": 5,
    "start_time": "2025-02-13T19:07:36.432Z"
   },
   {
    "duration": 33,
    "start_time": "2025-02-13T19:07:36.881Z"
   },
   {
    "duration": 6,
    "start_time": "2025-02-13T19:09:00.109Z"
   },
   {
    "duration": 220,
    "start_time": "2025-02-13T19:09:01.204Z"
   },
   {
    "duration": 27,
    "start_time": "2025-02-13T19:09:01.718Z"
   },
   {
    "duration": 5,
    "start_time": "2025-02-13T19:09:27.949Z"
   },
   {
    "duration": 26,
    "start_time": "2025-02-13T19:11:29.687Z"
   },
   {
    "duration": 38,
    "start_time": "2025-02-13T19:12:15.745Z"
   },
   {
    "duration": 29,
    "start_time": "2025-02-13T19:14:03.683Z"
   },
   {
    "duration": 6,
    "start_time": "2025-02-13T19:15:16.115Z"
   },
   {
    "duration": 215,
    "start_time": "2025-02-13T19:15:16.936Z"
   },
   {
    "duration": 26,
    "start_time": "2025-02-13T19:15:17.329Z"
   },
   {
    "duration": 15,
    "start_time": "2025-02-13T19:15:18.591Z"
   },
   {
    "duration": 28,
    "start_time": "2025-02-13T19:15:20.318Z"
   },
   {
    "duration": 131,
    "start_time": "2025-02-13T19:15:38.637Z"
   },
   {
    "duration": 50,
    "start_time": "2025-02-13T19:16:32.817Z"
   },
   {
    "duration": 4,
    "start_time": "2025-02-13T19:16:46.523Z"
   },
   {
    "duration": 205,
    "start_time": "2025-02-13T19:16:46.912Z"
   },
   {
    "duration": 31,
    "start_time": "2025-02-13T19:16:47.119Z"
   },
   {
    "duration": 16,
    "start_time": "2025-02-13T19:16:47.479Z"
   },
   {
    "duration": 29,
    "start_time": "2025-02-13T19:16:48.260Z"
   },
   {
    "duration": 24,
    "start_time": "2025-02-13T19:16:48.584Z"
   },
   {
    "duration": 31,
    "start_time": "2025-02-13T19:16:49.469Z"
   },
   {
    "duration": 30,
    "start_time": "2025-02-13T19:16:49.940Z"
   },
   {
    "duration": 397,
    "start_time": "2025-02-13T19:17:39.589Z"
   },
   {
    "duration": 13,
    "start_time": "2025-02-13T19:17:50.796Z"
   },
   {
    "duration": 49,
    "start_time": "2025-02-13T19:17:53.258Z"
   },
   {
    "duration": 5,
    "start_time": "2025-02-13T19:18:21.130Z"
   },
   {
    "duration": 212,
    "start_time": "2025-02-13T19:18:24.180Z"
   },
   {
    "duration": 25,
    "start_time": "2025-02-13T19:18:24.707Z"
   },
   {
    "duration": 16,
    "start_time": "2025-02-13T19:18:25.754Z"
   },
   {
    "duration": 27,
    "start_time": "2025-02-13T19:18:28.565Z"
   },
   {
    "duration": 48,
    "start_time": "2025-02-13T19:19:59.171Z"
   },
   {
    "duration": 14,
    "start_time": "2025-02-13T19:20:05.518Z"
   },
   {
    "duration": 43,
    "start_time": "2025-02-13T19:20:07.571Z"
   },
   {
    "duration": 41,
    "start_time": "2025-02-13T19:20:29.063Z"
   },
   {
    "duration": 5,
    "start_time": "2025-02-13T19:20:40.430Z"
   },
   {
    "duration": 210,
    "start_time": "2025-02-13T19:20:41.068Z"
   },
   {
    "duration": 26,
    "start_time": "2025-02-13T19:20:41.398Z"
   },
   {
    "duration": 16,
    "start_time": "2025-02-13T19:20:42.574Z"
   },
   {
    "duration": 26,
    "start_time": "2025-02-13T19:20:44.848Z"
   },
   {
    "duration": 27,
    "start_time": "2025-02-13T19:21:24.761Z"
   },
   {
    "duration": 26,
    "start_time": "2025-02-13T19:22:28.856Z"
   },
   {
    "duration": 25,
    "start_time": "2025-02-13T19:22:34.669Z"
   },
   {
    "duration": 21,
    "start_time": "2025-02-13T19:22:35.549Z"
   },
   {
    "duration": 23,
    "start_time": "2025-02-13T19:22:36.154Z"
   },
   {
    "duration": 11,
    "start_time": "2025-02-13T19:22:39.876Z"
   },
   {
    "duration": 53,
    "start_time": "2025-02-13T19:22:41.862Z"
   },
   {
    "duration": 16,
    "start_time": "2025-02-13T19:22:52.068Z"
   },
   {
    "duration": 4,
    "start_time": "2025-02-13T19:22:55.717Z"
   },
   {
    "duration": 36,
    "start_time": "2025-02-13T19:23:01.952Z"
   },
   {
    "duration": 17,
    "start_time": "2025-02-13T19:24:38.967Z"
   },
   {
    "duration": 13,
    "start_time": "2025-02-13T19:25:45.810Z"
   },
   {
    "duration": 15,
    "start_time": "2025-02-13T19:25:52.544Z"
   },
   {
    "duration": 13,
    "start_time": "2025-02-13T19:30:01.156Z"
   },
   {
    "duration": 15,
    "start_time": "2025-02-13T19:30:01.588Z"
   },
   {
    "duration": 15,
    "start_time": "2025-02-13T19:53:33.715Z"
   },
   {
    "duration": 13,
    "start_time": "2025-02-13T19:56:35.224Z"
   },
   {
    "duration": 15,
    "start_time": "2025-02-13T19:56:42.287Z"
   },
   {
    "duration": 15,
    "start_time": "2025-02-13T19:56:42.778Z"
   },
   {
    "duration": 11,
    "start_time": "2025-02-13T19:56:58.116Z"
   },
   {
    "duration": 13,
    "start_time": "2025-02-13T19:56:58.796Z"
   },
   {
    "duration": 11,
    "start_time": "2025-02-13T19:58:08.047Z"
   },
   {
    "duration": 15,
    "start_time": "2025-02-13T19:58:08.425Z"
   },
   {
    "duration": 17,
    "start_time": "2025-02-13T19:58:42.482Z"
   },
   {
    "duration": 7,
    "start_time": "2025-02-13T20:00:01.510Z"
   },
   {
    "duration": 2635,
    "start_time": "2025-02-14T18:42:31.752Z"
   },
   {
    "duration": 319,
    "start_time": "2025-02-14T18:42:34.389Z"
   },
   {
    "duration": 26,
    "start_time": "2025-02-14T18:42:34.710Z"
   },
   {
    "duration": 16,
    "start_time": "2025-02-14T18:42:36.103Z"
   },
   {
    "duration": 30,
    "start_time": "2025-02-14T18:42:38.204Z"
   },
   {
    "duration": 30,
    "start_time": "2025-02-14T18:42:39.464Z"
   },
   {
    "duration": 31,
    "start_time": "2025-02-14T18:42:40.827Z"
   },
   {
    "duration": 26,
    "start_time": "2025-02-14T18:42:42.251Z"
   },
   {
    "duration": 25,
    "start_time": "2025-02-14T18:42:50.075Z"
   },
   {
    "duration": 24,
    "start_time": "2025-02-14T18:42:50.567Z"
   },
   {
    "duration": 11,
    "start_time": "2025-02-14T18:42:53.672Z"
   },
   {
    "duration": 13,
    "start_time": "2025-02-14T18:42:54.873Z"
   },
   {
    "duration": 439,
    "start_time": "2025-02-14T18:42:55.357Z"
   },
   {
    "duration": 7,
    "start_time": "2025-02-14T18:42:55.956Z"
   },
   {
    "duration": 4,
    "start_time": "2025-02-14T18:42:56.818Z"
   },
   {
    "duration": 29,
    "start_time": "2025-02-14T18:43:11.208Z"
   },
   {
    "duration": 13,
    "start_time": "2025-02-14T18:43:15.675Z"
   },
   {
    "duration": 12,
    "start_time": "2025-02-14T18:43:27.551Z"
   },
   {
    "duration": 11,
    "start_time": "2025-02-14T18:43:28.852Z"
   },
   {
    "duration": 27,
    "start_time": "2025-02-14T18:43:29.696Z"
   },
   {
    "duration": 9,
    "start_time": "2025-02-14T18:43:30.273Z"
   },
   {
    "duration": 10,
    "start_time": "2025-02-14T18:43:55.639Z"
   },
   {
    "duration": 13,
    "start_time": "2025-02-14T18:45:45.979Z"
   },
   {
    "duration": 22,
    "start_time": "2025-02-14T18:47:42.897Z"
   },
   {
    "duration": 17,
    "start_time": "2025-02-14T18:48:39.587Z"
   },
   {
    "duration": 21,
    "start_time": "2025-02-14T18:50:12.399Z"
   },
   {
    "duration": 10,
    "start_time": "2025-02-14T18:50:18.636Z"
   },
   {
    "duration": 11,
    "start_time": "2025-02-14T18:52:58.509Z"
   },
   {
    "duration": 11,
    "start_time": "2025-02-14T18:53:08.803Z"
   },
   {
    "duration": 21,
    "start_time": "2025-02-14T18:54:01.230Z"
   },
   {
    "duration": 19,
    "start_time": "2025-02-14T18:54:15.547Z"
   },
   {
    "duration": 10,
    "start_time": "2025-02-14T18:55:01.876Z"
   },
   {
    "duration": 19,
    "start_time": "2025-02-14T18:56:24.392Z"
   },
   {
    "duration": 25,
    "start_time": "2025-02-14T18:57:15.404Z"
   },
   {
    "duration": 30,
    "start_time": "2025-02-14T18:57:54.414Z"
   },
   {
    "duration": 29,
    "start_time": "2025-02-14T18:58:18.759Z"
   },
   {
    "duration": 9,
    "start_time": "2025-02-14T18:58:41.308Z"
   },
   {
    "duration": 10,
    "start_time": "2025-02-14T18:59:02.242Z"
   },
   {
    "duration": 3,
    "start_time": "2025-02-14T18:59:22.172Z"
   },
   {
    "duration": 8,
    "start_time": "2025-02-14T19:04:14.510Z"
   },
   {
    "duration": 11,
    "start_time": "2025-02-14T19:04:34.713Z"
   },
   {
    "duration": 8,
    "start_time": "2025-02-14T19:05:01.757Z"
   },
   {
    "duration": 9,
    "start_time": "2025-02-14T19:05:16.261Z"
   },
   {
    "duration": 6,
    "start_time": "2025-02-14T19:06:10.917Z"
   },
   {
    "duration": 5,
    "start_time": "2025-02-14T19:06:43.170Z"
   },
   {
    "duration": 3399,
    "start_time": "2025-02-14T21:20:10.638Z"
   },
   {
    "duration": 352,
    "start_time": "2025-02-14T21:20:14.039Z"
   },
   {
    "duration": 32,
    "start_time": "2025-02-14T21:20:14.392Z"
   },
   {
    "duration": 16,
    "start_time": "2025-02-14T21:20:14.427Z"
   },
   {
    "duration": 34,
    "start_time": "2025-02-14T21:20:14.445Z"
   },
   {
    "duration": 40,
    "start_time": "2025-02-14T21:21:11.620Z"
   },
   {
    "duration": 31,
    "start_time": "2025-02-14T21:21:12.219Z"
   },
   {
    "duration": 32,
    "start_time": "2025-02-14T21:21:13.526Z"
   },
   {
    "duration": 27,
    "start_time": "2025-02-14T21:21:14.144Z"
   },
   {
    "duration": 24,
    "start_time": "2025-02-14T21:21:14.467Z"
   },
   {
    "duration": 12,
    "start_time": "2025-02-14T21:21:17.785Z"
   },
   {
    "duration": 29,
    "start_time": "2025-02-14T21:21:19.089Z"
   },
   {
    "duration": 13,
    "start_time": "2025-02-14T21:21:19.959Z"
   },
   {
    "duration": 6,
    "start_time": "2025-02-14T21:21:20.500Z"
   },
   {
    "duration": 12,
    "start_time": "2025-02-14T21:21:34.019Z"
   },
   {
    "duration": 24,
    "start_time": "2025-02-14T21:21:35.056Z"
   },
   {
    "duration": 18,
    "start_time": "2025-02-14T21:21:35.536Z"
   },
   {
    "duration": 4,
    "start_time": "2025-02-14T21:21:35.882Z"
   },
   {
    "duration": 15,
    "start_time": "2025-02-14T21:21:37.422Z"
   },
   {
    "duration": 25,
    "start_time": "2025-02-14T21:21:38.888Z"
   },
   {
    "duration": 14,
    "start_time": "2025-02-14T21:21:39.422Z"
   },
   {
    "duration": 4,
    "start_time": "2025-02-14T21:21:39.876Z"
   },
   {
    "duration": 5,
    "start_time": "2025-02-14T21:25:21.640Z"
   },
   {
    "duration": 5,
    "start_time": "2025-02-14T21:27:09.908Z"
   },
   {
    "duration": 4,
    "start_time": "2025-02-14T21:27:24.318Z"
   },
   {
    "duration": 6,
    "start_time": "2025-02-14T21:28:55.149Z"
   },
   {
    "duration": 4,
    "start_time": "2025-02-14T21:29:22.585Z"
   },
   {
    "duration": 5,
    "start_time": "2025-02-14T21:29:31.879Z"
   },
   {
    "duration": 8,
    "start_time": "2025-02-14T21:36:59.900Z"
   },
   {
    "duration": 11,
    "start_time": "2025-02-14T21:37:49.934Z"
   },
   {
    "duration": 6,
    "start_time": "2025-02-14T21:38:39.572Z"
   },
   {
    "duration": 14,
    "start_time": "2025-02-14T21:39:22.243Z"
   },
   {
    "duration": 6,
    "start_time": "2025-02-14T21:40:06.665Z"
   },
   {
    "duration": 5,
    "start_time": "2025-02-14T21:41:15.402Z"
   },
   {
    "duration": 7,
    "start_time": "2025-02-14T21:41:24.883Z"
   },
   {
    "duration": 15,
    "start_time": "2025-02-14T21:41:52.252Z"
   },
   {
    "duration": 752,
    "start_time": "2025-02-14T21:47:52.452Z"
   },
   {
    "duration": 66,
    "start_time": "2025-02-14T21:48:28.719Z"
   },
   {
    "duration": 50,
    "start_time": "2025-02-14T21:50:05.267Z"
   },
   {
    "duration": 21,
    "start_time": "2025-02-14T21:51:41.796Z"
   },
   {
    "duration": 26,
    "start_time": "2025-02-14T21:52:50.612Z"
   },
   {
    "duration": 18,
    "start_time": "2025-02-14T21:53:18.085Z"
   },
   {
    "duration": 26,
    "start_time": "2025-02-14T21:54:30.434Z"
   },
   {
    "duration": 9,
    "start_time": "2025-02-14T21:55:07.453Z"
   },
   {
    "duration": 6,
    "start_time": "2025-02-14T21:55:14.673Z"
   },
   {
    "duration": 7,
    "start_time": "2025-02-14T21:55:15.191Z"
   },
   {
    "duration": 19,
    "start_time": "2025-02-14T21:56:21.177Z"
   },
   {
    "duration": 5,
    "start_time": "2025-02-14T21:56:21.839Z"
   },
   {
    "duration": 16,
    "start_time": "2025-02-14T21:56:26.360Z"
   },
   {
    "duration": 29,
    "start_time": "2025-02-14T21:56:28.345Z"
   },
   {
    "duration": 9,
    "start_time": "2025-02-14T21:56:30.092Z"
   },
   {
    "duration": 5,
    "start_time": "2025-02-14T21:56:31.265Z"
   },
   {
    "duration": 13,
    "start_time": "2025-02-14T21:56:34.452Z"
   },
   {
    "duration": 23,
    "start_time": "2025-02-14T21:56:36.356Z"
   },
   {
    "duration": 14,
    "start_time": "2025-02-14T21:56:37.332Z"
   },
   {
    "duration": 6,
    "start_time": "2025-02-14T21:56:38.637Z"
   },
   {
    "duration": 5,
    "start_time": "2025-02-14T21:56:41.503Z"
   },
   {
    "duration": 7,
    "start_time": "2025-02-14T21:56:43.224Z"
   },
   {
    "duration": 6,
    "start_time": "2025-02-14T21:56:43.860Z"
   },
   {
    "duration": 7,
    "start_time": "2025-02-14T21:56:46.010Z"
   },
   {
    "duration": 10,
    "start_time": "2025-02-14T21:56:47.279Z"
   },
   {
    "duration": 8,
    "start_time": "2025-02-14T21:56:48.391Z"
   },
   {
    "duration": 7,
    "start_time": "2025-02-14T21:56:49.077Z"
   },
   {
    "duration": 2632,
    "start_time": "2025-02-16T23:45:39.710Z"
   },
   {
    "duration": 292,
    "start_time": "2025-02-16T23:45:42.345Z"
   },
   {
    "duration": 26,
    "start_time": "2025-02-16T23:45:42.639Z"
   },
   {
    "duration": 14,
    "start_time": "2025-02-16T23:45:42.667Z"
   },
   {
    "duration": 30,
    "start_time": "2025-02-16T23:45:45.614Z"
   },
   {
    "duration": 28,
    "start_time": "2025-02-16T23:45:47.897Z"
   },
   {
    "duration": 31,
    "start_time": "2025-02-16T23:45:48.846Z"
   },
   {
    "duration": 28,
    "start_time": "2025-02-16T23:45:50.639Z"
   },
   {
    "duration": 21,
    "start_time": "2025-02-16T23:45:51.419Z"
   },
   {
    "duration": 22,
    "start_time": "2025-02-16T23:45:51.972Z"
   },
   {
    "duration": 11,
    "start_time": "2025-02-16T23:45:55.989Z"
   },
   {
    "duration": 14,
    "start_time": "2025-02-16T23:46:10.458Z"
   },
   {
    "duration": 70,
    "start_time": "2025-02-16T23:46:15.573Z"
   },
   {
    "duration": 348,
    "start_time": "2025-02-16T23:46:19.078Z"
   },
   {
    "duration": 11,
    "start_time": "2025-02-16T23:46:56.214Z"
   },
   {
    "duration": 67,
    "start_time": "2025-02-16T23:47:05.676Z"
   },
   {
    "duration": 11,
    "start_time": "2025-02-16T23:47:22.601Z"
   },
   {
    "duration": 10,
    "start_time": "2025-02-16T23:48:28.266Z"
   },
   {
    "duration": 20,
    "start_time": "2025-02-16T23:49:10.031Z"
   },
   {
    "duration": 8,
    "start_time": "2025-02-16T23:49:10.433Z"
   },
   {
    "duration": 4,
    "start_time": "2025-02-16T23:49:11.089Z"
   },
   {
    "duration": 12,
    "start_time": "2025-02-16T23:49:15.583Z"
   },
   {
    "duration": 19,
    "start_time": "2025-02-16T23:49:17.747Z"
   },
   {
    "duration": 8,
    "start_time": "2025-02-16T23:49:19.996Z"
   },
   {
    "duration": 6,
    "start_time": "2025-02-16T23:49:21.721Z"
   },
   {
    "duration": 9,
    "start_time": "2025-02-16T23:49:37.230Z"
   },
   {
    "duration": 12,
    "start_time": "2025-02-16T23:50:43.130Z"
   },
   {
    "duration": 10,
    "start_time": "2025-02-16T23:51:46.517Z"
   },
   {
    "duration": 20,
    "start_time": "2025-02-16T23:51:54.405Z"
   },
   {
    "duration": 9,
    "start_time": "2025-02-16T23:52:30.424Z"
   },
   {
    "duration": 4,
    "start_time": "2025-02-16T23:52:31.641Z"
   },
   {
    "duration": 5,
    "start_time": "2025-02-16T23:52:57.579Z"
   },
   {
    "duration": 15,
    "start_time": "2025-02-16T23:53:32.128Z"
   },
   {
    "duration": 5,
    "start_time": "2025-02-16T23:53:51.419Z"
   },
   {
    "duration": 9,
    "start_time": "2025-02-16T23:54:25.757Z"
   },
   {
    "duration": 6,
    "start_time": "2025-02-16T23:54:26.656Z"
   },
   {
    "duration": 5,
    "start_time": "2025-02-16T23:54:49.244Z"
   },
   {
    "duration": 4,
    "start_time": "2025-02-16T23:54:49.760Z"
   },
   {
    "duration": 8,
    "start_time": "2025-02-16T23:55:20.721Z"
   },
   {
    "duration": 8,
    "start_time": "2025-02-16T23:55:37.151Z"
   },
   {
    "duration": 8,
    "start_time": "2025-02-16T23:55:38.011Z"
   },
   {
    "duration": 7,
    "start_time": "2025-02-16T23:55:39.043Z"
   },
   {
    "duration": 6,
    "start_time": "2025-02-16T23:58:39.998Z"
   },
   {
    "duration": 6,
    "start_time": "2025-02-17T00:01:34.367Z"
   },
   {
    "duration": 7,
    "start_time": "2025-02-17T00:03:09.849Z"
   },
   {
    "duration": 9,
    "start_time": "2025-02-17T00:03:22.545Z"
   },
   {
    "duration": 420,
    "start_time": "2025-02-17T00:04:42.367Z"
   },
   {
    "duration": 4,
    "start_time": "2025-02-17T00:05:02.309Z"
   },
   {
    "duration": 16,
    "start_time": "2025-02-17T00:05:16.536Z"
   },
   {
    "duration": 7,
    "start_time": "2025-02-17T00:05:26.094Z"
   },
   {
    "duration": 6,
    "start_time": "2025-02-17T00:05:31.728Z"
   },
   {
    "duration": 8,
    "start_time": "2025-02-17T00:05:32.439Z"
   },
   {
    "duration": 6,
    "start_time": "2025-02-17T00:05:33.134Z"
   },
   {
    "duration": 7,
    "start_time": "2025-02-17T00:05:33.890Z"
   },
   {
    "duration": 8,
    "start_time": "2025-02-17T00:05:54.520Z"
   },
   {
    "duration": 7,
    "start_time": "2025-02-17T00:06:58.183Z"
   },
   {
    "duration": 3,
    "start_time": "2025-02-17T00:07:46.408Z"
   },
   {
    "duration": 4,
    "start_time": "2025-02-17T00:08:08.253Z"
   },
   {
    "duration": 4,
    "start_time": "2025-02-17T00:08:23.095Z"
   },
   {
    "duration": 3,
    "start_time": "2025-02-17T00:08:38.980Z"
   },
   {
    "duration": 11,
    "start_time": "2025-02-17T00:08:58.845Z"
   },
   {
    "duration": 9,
    "start_time": "2025-02-17T00:09:39.601Z"
   },
   {
    "duration": 8,
    "start_time": "2025-02-17T00:10:10.607Z"
   },
   {
    "duration": 6,
    "start_time": "2025-02-17T00:10:54.176Z"
   },
   {
    "duration": 4,
    "start_time": "2025-02-17T00:11:29.185Z"
   },
   {
    "duration": 3,
    "start_time": "2025-02-17T00:12:11.735Z"
   },
   {
    "duration": 3,
    "start_time": "2025-02-17T00:13:08.083Z"
   },
   {
    "duration": 17,
    "start_time": "2025-02-17T00:13:25.859Z"
   },
   {
    "duration": 7,
    "start_time": "2025-02-17T00:14:06.017Z"
   },
   {
    "duration": 4,
    "start_time": "2025-02-17T00:16:53.224Z"
   },
   {
    "duration": 6,
    "start_time": "2025-02-17T00:18:03.149Z"
   },
   {
    "duration": 7,
    "start_time": "2025-02-17T00:18:19.542Z"
   },
   {
    "duration": 5,
    "start_time": "2025-02-17T00:18:41.239Z"
   },
   {
    "duration": 4,
    "start_time": "2025-02-17T00:18:41.635Z"
   },
   {
    "duration": 4,
    "start_time": "2025-02-17T00:18:42.126Z"
   },
   {
    "duration": 6,
    "start_time": "2025-02-17T00:18:43.961Z"
   },
   {
    "duration": 7,
    "start_time": "2025-02-17T00:18:44.972Z"
   },
   {
    "duration": 6,
    "start_time": "2025-02-17T00:18:45.666Z"
   },
   {
    "duration": 7,
    "start_time": "2025-02-17T00:18:46.212Z"
   },
   {
    "duration": 7,
    "start_time": "2025-02-17T00:21:44.868Z"
   },
   {
    "duration": 4,
    "start_time": "2025-02-17T00:23:08.840Z"
   },
   {
    "duration": 8,
    "start_time": "2025-02-17T00:24:01.518Z"
   },
   {
    "duration": 10,
    "start_time": "2025-02-17T00:27:21.293Z"
   },
   {
    "duration": 9,
    "start_time": "2025-02-17T00:28:40.328Z"
   },
   {
    "duration": 8,
    "start_time": "2025-02-17T00:32:53.695Z"
   },
   {
    "duration": 115,
    "start_time": "2025-02-17T00:34:42.283Z"
   },
   {
    "duration": 9,
    "start_time": "2025-02-17T00:34:58.747Z"
   },
   {
    "duration": 10,
    "start_time": "2025-02-17T00:35:47.314Z"
   },
   {
    "duration": 12,
    "start_time": "2025-02-17T00:37:03.874Z"
   },
   {
    "duration": 9,
    "start_time": "2025-02-17T00:37:35.327Z"
   },
   {
    "duration": 9,
    "start_time": "2025-02-17T00:37:57.971Z"
   },
   {
    "duration": 9,
    "start_time": "2025-02-17T00:39:15.987Z"
   },
   {
    "duration": 8,
    "start_time": "2025-02-17T00:39:42.696Z"
   },
   {
    "duration": 9,
    "start_time": "2025-02-17T00:40:29.490Z"
   },
   {
    "duration": 5,
    "start_time": "2025-02-17T00:42:26.385Z"
   },
   {
    "duration": 4,
    "start_time": "2025-02-17T00:42:40.521Z"
   },
   {
    "duration": 13,
    "start_time": "2025-02-17T00:46:41.262Z"
   },
   {
    "duration": 5,
    "start_time": "2025-02-17T00:46:48.540Z"
   },
   {
    "duration": 7,
    "start_time": "2025-02-17T00:47:58.491Z"
   },
   {
    "duration": 6,
    "start_time": "2025-02-17T00:48:30.684Z"
   },
   {
    "duration": 7,
    "start_time": "2025-02-17T00:49:44.197Z"
   },
   {
    "duration": 2727,
    "start_time": "2025-02-17T02:39:37.753Z"
   },
   {
    "duration": 303,
    "start_time": "2025-02-17T02:39:40.482Z"
   },
   {
    "duration": 28,
    "start_time": "2025-02-17T02:39:40.788Z"
   },
   {
    "duration": 25,
    "start_time": "2025-02-17T02:39:42.811Z"
   },
   {
    "duration": 19,
    "start_time": "2025-02-17T02:39:44.106Z"
   },
   {
    "duration": 29,
    "start_time": "2025-02-17T02:39:46.526Z"
   },
   {
    "duration": 44,
    "start_time": "2025-02-17T02:39:47.575Z"
   },
   {
    "duration": 28,
    "start_time": "2025-02-17T02:39:48.294Z"
   },
   {
    "duration": 27,
    "start_time": "2025-02-17T02:39:49.369Z"
   },
   {
    "duration": 20,
    "start_time": "2025-02-17T02:39:49.999Z"
   },
   {
    "duration": 22,
    "start_time": "2025-02-17T02:39:50.478Z"
   },
   {
    "duration": 12,
    "start_time": "2025-02-17T02:39:53.134Z"
   },
   {
    "duration": 39,
    "start_time": "2025-02-17T02:39:54.516Z"
   },
   {
    "duration": 7,
    "start_time": "2025-02-17T02:39:55.360Z"
   },
   {
    "duration": 6,
    "start_time": "2025-02-17T02:39:56.235Z"
   },
   {
    "duration": 10,
    "start_time": "2025-02-17T02:39:58.475Z"
   },
   {
    "duration": 19,
    "start_time": "2025-02-17T02:39:59.959Z"
   },
   {
    "duration": 9,
    "start_time": "2025-02-17T02:40:01.081Z"
   },
   {
    "duration": 4,
    "start_time": "2025-02-17T02:40:02.118Z"
   },
   {
    "duration": 11,
    "start_time": "2025-02-17T02:40:05.098Z"
   },
   {
    "duration": 20,
    "start_time": "2025-02-17T02:40:06.462Z"
   },
   {
    "duration": 9,
    "start_time": "2025-02-17T02:40:07.457Z"
   },
   {
    "duration": 4,
    "start_time": "2025-02-17T02:40:08.440Z"
   },
   {
    "duration": 5,
    "start_time": "2025-02-17T02:40:10.709Z"
   },
   {
    "duration": 4,
    "start_time": "2025-02-17T02:40:11.355Z"
   },
   {
    "duration": 5,
    "start_time": "2025-02-17T02:40:11.951Z"
   },
   {
    "duration": 7,
    "start_time": "2025-02-17T02:40:13.766Z"
   },
   {
    "duration": 8,
    "start_time": "2025-02-17T02:40:15.359Z"
   },
   {
    "duration": 8,
    "start_time": "2025-02-17T02:40:16.948Z"
   },
   {
    "duration": 10,
    "start_time": "2025-02-17T02:40:17.709Z"
   },
   {
    "duration": 5,
    "start_time": "2025-02-17T02:40:18.575Z"
   },
   {
    "duration": 8,
    "start_time": "2025-02-17T02:40:19.967Z"
   },
   {
    "duration": 13,
    "start_time": "2025-02-17T02:43:38.845Z"
   },
   {
    "duration": 14,
    "start_time": "2025-02-17T02:44:28.351Z"
   },
   {
    "duration": 475,
    "start_time": "2025-02-17T02:48:24.474Z"
   },
   {
    "duration": 8,
    "start_time": "2025-02-17T02:54:20.520Z"
   },
   {
    "duration": 9,
    "start_time": "2025-02-17T02:54:33.278Z"
   },
   {
    "duration": 7,
    "start_time": "2025-02-17T02:56:29.271Z"
   },
   {
    "duration": 6,
    "start_time": "2025-02-17T02:57:13.549Z"
   },
   {
    "duration": 4,
    "start_time": "2025-02-17T02:58:05.370Z"
   },
   {
    "duration": 476,
    "start_time": "2025-02-17T02:58:19.369Z"
   },
   {
    "duration": 476,
    "start_time": "2025-02-17T02:58:45.332Z"
   },
   {
    "duration": 11,
    "start_time": "2025-02-17T03:02:51.538Z"
   },
   {
    "duration": 2,
    "start_time": "2025-02-17T03:03:50.386Z"
   },
   {
    "duration": 7,
    "start_time": "2025-02-17T03:05:20.683Z"
   },
   {
    "duration": 15,
    "start_time": "2025-02-17T03:07:04.732Z"
   },
   {
    "duration": 616,
    "start_time": "2025-02-17T03:07:07.783Z"
   },
   {
    "duration": 7,
    "start_time": "2025-02-17T03:14:00.661Z"
   },
   {
    "duration": 5,
    "start_time": "2025-02-17T03:20:30.774Z"
   },
   {
    "duration": 214,
    "start_time": "2025-02-17T03:20:31.136Z"
   },
   {
    "duration": 26,
    "start_time": "2025-02-17T03:20:31.352Z"
   },
   {
    "duration": 15,
    "start_time": "2025-02-17T03:20:31.664Z"
   },
   {
    "duration": 26,
    "start_time": "2025-02-17T03:20:32.385Z"
   },
   {
    "duration": 25,
    "start_time": "2025-02-17T03:20:32.735Z"
   },
   {
    "duration": 30,
    "start_time": "2025-02-17T03:20:32.921Z"
   },
   {
    "duration": 24,
    "start_time": "2025-02-17T03:20:33.317Z"
   },
   {
    "duration": 21,
    "start_time": "2025-02-17T03:20:33.492Z"
   },
   {
    "duration": 24,
    "start_time": "2025-02-17T03:20:33.687Z"
   },
   {
    "duration": 11,
    "start_time": "2025-02-17T03:20:34.743Z"
   },
   {
    "duration": 25,
    "start_time": "2025-02-17T03:20:35.295Z"
   },
   {
    "duration": 7,
    "start_time": "2025-02-17T03:20:35.660Z"
   },
   {
    "duration": 5,
    "start_time": "2025-02-17T03:20:36.018Z"
   },
   {
    "duration": 11,
    "start_time": "2025-02-17T03:20:36.918Z"
   },
   {
    "duration": 18,
    "start_time": "2025-02-17T03:20:37.430Z"
   },
   {
    "duration": 9,
    "start_time": "2025-02-17T03:20:37.804Z"
   },
   {
    "duration": 5,
    "start_time": "2025-02-17T03:20:38.239Z"
   },
   {
    "duration": 11,
    "start_time": "2025-02-17T03:20:39.918Z"
   },
   {
    "duration": 18,
    "start_time": "2025-02-17T03:20:41.080Z"
   },
   {
    "duration": 9,
    "start_time": "2025-02-17T03:20:41.906Z"
   },
   {
    "duration": 6,
    "start_time": "2025-02-17T03:20:42.450Z"
   },
   {
    "duration": 4,
    "start_time": "2025-02-17T03:20:43.646Z"
   },
   {
    "duration": 4,
    "start_time": "2025-02-17T03:20:43.831Z"
   },
   {
    "duration": 4,
    "start_time": "2025-02-17T03:20:44.334Z"
   },
   {
    "duration": 8,
    "start_time": "2025-02-17T03:20:45.321Z"
   },
   {
    "duration": 8,
    "start_time": "2025-02-17T03:20:45.750Z"
   },
   {
    "duration": 8,
    "start_time": "2025-02-17T03:20:46.196Z"
   },
   {
    "duration": 70,
    "start_time": "2025-02-17T03:20:46.371Z"
   },
   {
    "duration": 5,
    "start_time": "2025-02-17T03:20:46.717Z"
   },
   {
    "duration": 7,
    "start_time": "2025-02-17T03:20:47.224Z"
   },
   {
    "duration": 4,
    "start_time": "2025-02-17T03:20:47.829Z"
   },
   {
    "duration": 7,
    "start_time": "2025-02-17T03:20:49.123Z"
   },
   {
    "duration": 12,
    "start_time": "2025-02-17T03:20:50.805Z"
   },
   {
    "duration": 424,
    "start_time": "2025-02-17T03:20:51.350Z"
   },
   {
    "duration": 4,
    "start_time": "2025-02-17T03:20:52.679Z"
   }
  ],
  "kernelspec": {
   "display_name": "Python 3 (ipykernel)",
   "language": "python",
   "name": "python3"
  },
  "language_info": {
   "codemirror_mode": {
    "name": "ipython",
    "version": 3
   },
   "file_extension": ".py",
   "mimetype": "text/x-python",
   "name": "python",
   "nbconvert_exporter": "python",
   "pygments_lexer": "ipython3",
   "version": "3.9.19"
  },
  "toc": {
   "base_numbering": 1,
   "nav_menu": {},
   "number_sections": true,
   "sideBar": true,
   "skip_h1_title": true,
   "title_cell": "Table of Contents",
   "title_sidebar": "Contents",
   "toc_cell": false,
   "toc_position": {},
   "toc_section_display": true,
   "toc_window_display": false
  }
 },
 "nbformat": 4,
 "nbformat_minor": 2
}
